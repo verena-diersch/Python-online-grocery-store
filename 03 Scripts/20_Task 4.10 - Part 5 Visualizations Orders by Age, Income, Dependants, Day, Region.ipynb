{
 "cells": [
  {
   "cell_type": "markdown",
   "id": "01de5bbe",
   "metadata": {},
   "source": [
    "### 01. Importing libraries"
   ]
  },
  {
   "cell_type": "code",
   "execution_count": 1,
   "id": "309c0c95",
   "metadata": {},
   "outputs": [],
   "source": [
    "import pandas as pd\n",
    "import numpy as np\n",
    "import os\n",
    "import matplotlib.pyplot as plt\n",
    "import seaborn as sns\n",
    "import scipy"
   ]
  },
  {
   "cell_type": "markdown",
   "id": "9b38d4a6",
   "metadata": {},
   "source": [
    "### 02. Importing dataframe"
   ]
  },
  {
   "cell_type": "code",
   "execution_count": 2,
   "id": "f83b7350",
   "metadata": {},
   "outputs": [],
   "source": [
    "df_final = pd.read_pickle(r'C:\\Users\\veren\\Python Data\\26-10-2021 Instacart Basket Analysis\\02 Data\\Prepared Data\\final_complete.pkl')"
   ]
  },
  {
   "cell_type": "code",
   "execution_count": 3,
   "id": "c827ce32",
   "metadata": {},
   "outputs": [
    {
     "data": {
      "text/plain": [
       "(29329778, 36)"
      ]
     },
     "execution_count": 3,
     "metadata": {},
     "output_type": "execute_result"
    }
   ],
   "source": [
    "df_final.shape"
   ]
  },
  {
   "cell_type": "code",
   "execution_count": 4,
   "id": "d76d5c3d",
   "metadata": {},
   "outputs": [
    {
     "data": {
      "text/html": [
       "<div>\n",
       "<style scoped>\n",
       "    .dataframe tbody tr th:only-of-type {\n",
       "        vertical-align: middle;\n",
       "    }\n",
       "\n",
       "    .dataframe tbody tr th {\n",
       "        vertical-align: top;\n",
       "    }\n",
       "\n",
       "    .dataframe thead th {\n",
       "        text-align: right;\n",
       "    }\n",
       "</style>\n",
       "<table border=\"1\" class=\"dataframe\">\n",
       "  <thead>\n",
       "    <tr style=\"text-align: right;\">\n",
       "      <th></th>\n",
       "      <th>product_id</th>\n",
       "      <th>product_name</th>\n",
       "      <th>aisle_id</th>\n",
       "      <th>department_id</th>\n",
       "      <th>prices</th>\n",
       "      <th>order_id</th>\n",
       "      <th>user_id</th>\n",
       "      <th>order_number</th>\n",
       "      <th>order_dow</th>\n",
       "      <th>order_hour_of_day</th>\n",
       "      <th>days_since_prior_order</th>\n",
       "      <th>add_to_cart_order</th>\n",
       "      <th>reordered</th>\n",
       "      <th>price_range_loc</th>\n",
       "      <th>busiest_day</th>\n",
       "      <th>busiest_days</th>\n",
       "      <th>busiest_period_of_day</th>\n",
       "      <th>max_order</th>\n",
       "      <th>loyalty_flag</th>\n",
       "      <th>spending</th>\n",
       "      <th>spending_flag</th>\n",
       "      <th>frequency</th>\n",
       "      <th>frequency_flag</th>\n",
       "      <th>gender</th>\n",
       "      <th>state</th>\n",
       "      <th>age</th>\n",
       "      <th>date_joined</th>\n",
       "      <th>n_dependants</th>\n",
       "      <th>family_status</th>\n",
       "      <th>income</th>\n",
       "      <th>region</th>\n",
       "      <th>exclusion_flag</th>\n",
       "      <th>age_group</th>\n",
       "      <th>income_range</th>\n",
       "      <th>department</th>\n",
       "      <th>day_of_week</th>\n",
       "    </tr>\n",
       "  </thead>\n",
       "  <tbody>\n",
       "    <tr>\n",
       "      <th>0</th>\n",
       "      <td>1</td>\n",
       "      <td>Chocolate Sandwich Cookies</td>\n",
       "      <td>61</td>\n",
       "      <td>19</td>\n",
       "      <td>5.8</td>\n",
       "      <td>3139998</td>\n",
       "      <td>138</td>\n",
       "      <td>28</td>\n",
       "      <td>6</td>\n",
       "      <td>11</td>\n",
       "      <td>3.0</td>\n",
       "      <td>5</td>\n",
       "      <td>0</td>\n",
       "      <td>Mid-range product</td>\n",
       "      <td>Regularly busy</td>\n",
       "      <td>Regularly busy</td>\n",
       "      <td>Most Orders</td>\n",
       "      <td>32</td>\n",
       "      <td>Regular customer</td>\n",
       "      <td>6.769286</td>\n",
       "      <td>Low Spender</td>\n",
       "      <td>8.0</td>\n",
       "      <td>Frequent customer</td>\n",
       "      <td>Male</td>\n",
       "      <td>Minnesota</td>\n",
       "      <td>81</td>\n",
       "      <td>8/1/2019</td>\n",
       "      <td>1</td>\n",
       "      <td>married</td>\n",
       "      <td>49620</td>\n",
       "      <td>Midwest</td>\n",
       "      <td>Non-low-activity Customer</td>\n",
       "      <td>65+</td>\n",
       "      <td>25.000-50.000</td>\n",
       "      <td>snacks</td>\n",
       "      <td>Friday</td>\n",
       "    </tr>\n",
       "    <tr>\n",
       "      <th>1</th>\n",
       "      <td>1</td>\n",
       "      <td>Chocolate Sandwich Cookies</td>\n",
       "      <td>61</td>\n",
       "      <td>19</td>\n",
       "      <td>5.8</td>\n",
       "      <td>1977647</td>\n",
       "      <td>138</td>\n",
       "      <td>30</td>\n",
       "      <td>6</td>\n",
       "      <td>17</td>\n",
       "      <td>20.0</td>\n",
       "      <td>1</td>\n",
       "      <td>1</td>\n",
       "      <td>Mid-range product</td>\n",
       "      <td>Regularly busy</td>\n",
       "      <td>Regularly busy</td>\n",
       "      <td>Most Orders</td>\n",
       "      <td>32</td>\n",
       "      <td>Regular customer</td>\n",
       "      <td>6.769286</td>\n",
       "      <td>Low Spender</td>\n",
       "      <td>8.0</td>\n",
       "      <td>Frequent customer</td>\n",
       "      <td>Male</td>\n",
       "      <td>Minnesota</td>\n",
       "      <td>81</td>\n",
       "      <td>8/1/2019</td>\n",
       "      <td>1</td>\n",
       "      <td>married</td>\n",
       "      <td>49620</td>\n",
       "      <td>Midwest</td>\n",
       "      <td>Non-low-activity Customer</td>\n",
       "      <td>65+</td>\n",
       "      <td>25.000-50.000</td>\n",
       "      <td>snacks</td>\n",
       "      <td>Friday</td>\n",
       "    </tr>\n",
       "    <tr>\n",
       "      <th>2</th>\n",
       "      <td>907</td>\n",
       "      <td>Premium Sliced Bacon</td>\n",
       "      <td>106</td>\n",
       "      <td>12</td>\n",
       "      <td>20.0</td>\n",
       "      <td>2254091</td>\n",
       "      <td>138</td>\n",
       "      <td>10</td>\n",
       "      <td>5</td>\n",
       "      <td>14</td>\n",
       "      <td>6.0</td>\n",
       "      <td>1</td>\n",
       "      <td>1</td>\n",
       "      <td>High-range product</td>\n",
       "      <td>Regularly busy</td>\n",
       "      <td>Regularly busy</td>\n",
       "      <td>Most Orders</td>\n",
       "      <td>32</td>\n",
       "      <td>Regular customer</td>\n",
       "      <td>6.769286</td>\n",
       "      <td>Low Spender</td>\n",
       "      <td>8.0</td>\n",
       "      <td>Frequent customer</td>\n",
       "      <td>Male</td>\n",
       "      <td>Minnesota</td>\n",
       "      <td>81</td>\n",
       "      <td>8/1/2019</td>\n",
       "      <td>1</td>\n",
       "      <td>married</td>\n",
       "      <td>49620</td>\n",
       "      <td>Midwest</td>\n",
       "      <td>Non-low-activity Customer</td>\n",
       "      <td>65+</td>\n",
       "      <td>25.000-50.000</td>\n",
       "      <td>meat &amp; seafood</td>\n",
       "      <td>Thursday</td>\n",
       "    </tr>\n",
       "    <tr>\n",
       "      <th>3</th>\n",
       "      <td>1000</td>\n",
       "      <td>Apricots</td>\n",
       "      <td>18</td>\n",
       "      <td>10</td>\n",
       "      <td>12.9</td>\n",
       "      <td>505689</td>\n",
       "      <td>138</td>\n",
       "      <td>9</td>\n",
       "      <td>6</td>\n",
       "      <td>12</td>\n",
       "      <td>7.0</td>\n",
       "      <td>5</td>\n",
       "      <td>0</td>\n",
       "      <td>Mid-range product</td>\n",
       "      <td>Regularly busy</td>\n",
       "      <td>Regularly busy</td>\n",
       "      <td>Most Orders</td>\n",
       "      <td>32</td>\n",
       "      <td>Regular customer</td>\n",
       "      <td>6.769286</td>\n",
       "      <td>Low Spender</td>\n",
       "      <td>8.0</td>\n",
       "      <td>Frequent customer</td>\n",
       "      <td>Male</td>\n",
       "      <td>Minnesota</td>\n",
       "      <td>81</td>\n",
       "      <td>8/1/2019</td>\n",
       "      <td>1</td>\n",
       "      <td>married</td>\n",
       "      <td>49620</td>\n",
       "      <td>Midwest</td>\n",
       "      <td>Non-low-activity Customer</td>\n",
       "      <td>65+</td>\n",
       "      <td>25.000-50.000</td>\n",
       "      <td>bulk</td>\n",
       "      <td>Friday</td>\n",
       "    </tr>\n",
       "    <tr>\n",
       "      <th>4</th>\n",
       "      <td>3265</td>\n",
       "      <td>Mini Seedless Watermelon Pack</td>\n",
       "      <td>32</td>\n",
       "      <td>4</td>\n",
       "      <td>1.7</td>\n",
       "      <td>960220</td>\n",
       "      <td>138</td>\n",
       "      <td>17</td>\n",
       "      <td>5</td>\n",
       "      <td>14</td>\n",
       "      <td>19.0</td>\n",
       "      <td>1</td>\n",
       "      <td>0</td>\n",
       "      <td>Low-range product</td>\n",
       "      <td>Regularly busy</td>\n",
       "      <td>Regularly busy</td>\n",
       "      <td>Most Orders</td>\n",
       "      <td>32</td>\n",
       "      <td>Regular customer</td>\n",
       "      <td>6.769286</td>\n",
       "      <td>Low Spender</td>\n",
       "      <td>8.0</td>\n",
       "      <td>Frequent customer</td>\n",
       "      <td>Male</td>\n",
       "      <td>Minnesota</td>\n",
       "      <td>81</td>\n",
       "      <td>8/1/2019</td>\n",
       "      <td>1</td>\n",
       "      <td>married</td>\n",
       "      <td>49620</td>\n",
       "      <td>Midwest</td>\n",
       "      <td>Non-low-activity Customer</td>\n",
       "      <td>65+</td>\n",
       "      <td>25.000-50.000</td>\n",
       "      <td>produce</td>\n",
       "      <td>Thursday</td>\n",
       "    </tr>\n",
       "  </tbody>\n",
       "</table>\n",
       "</div>"
      ],
      "text/plain": [
       "   product_id                   product_name  aisle_id  department_id  prices  \\\n",
       "0           1     Chocolate Sandwich Cookies        61             19     5.8   \n",
       "1           1     Chocolate Sandwich Cookies        61             19     5.8   \n",
       "2         907           Premium Sliced Bacon       106             12    20.0   \n",
       "3        1000                       Apricots        18             10    12.9   \n",
       "4        3265  Mini Seedless Watermelon Pack        32              4     1.7   \n",
       "\n",
       "   order_id  user_id  order_number  order_dow  order_hour_of_day  \\\n",
       "0   3139998      138            28          6                 11   \n",
       "1   1977647      138            30          6                 17   \n",
       "2   2254091      138            10          5                 14   \n",
       "3    505689      138             9          6                 12   \n",
       "4    960220      138            17          5                 14   \n",
       "\n",
       "   days_since_prior_order  add_to_cart_order  reordered     price_range_loc  \\\n",
       "0                     3.0                  5          0   Mid-range product   \n",
       "1                    20.0                  1          1   Mid-range product   \n",
       "2                     6.0                  1          1  High-range product   \n",
       "3                     7.0                  5          0   Mid-range product   \n",
       "4                    19.0                  1          0   Low-range product   \n",
       "\n",
       "      busiest_day    busiest_days busiest_period_of_day  max_order  \\\n",
       "0  Regularly busy  Regularly busy           Most Orders         32   \n",
       "1  Regularly busy  Regularly busy           Most Orders         32   \n",
       "2  Regularly busy  Regularly busy           Most Orders         32   \n",
       "3  Regularly busy  Regularly busy           Most Orders         32   \n",
       "4  Regularly busy  Regularly busy           Most Orders         32   \n",
       "\n",
       "       loyalty_flag  spending spending_flag  frequency     frequency_flag  \\\n",
       "0  Regular customer  6.769286   Low Spender        8.0  Frequent customer   \n",
       "1  Regular customer  6.769286   Low Spender        8.0  Frequent customer   \n",
       "2  Regular customer  6.769286   Low Spender        8.0  Frequent customer   \n",
       "3  Regular customer  6.769286   Low Spender        8.0  Frequent customer   \n",
       "4  Regular customer  6.769286   Low Spender        8.0  Frequent customer   \n",
       "\n",
       "  gender      state  age date_joined  n_dependants family_status  income  \\\n",
       "0   Male  Minnesota   81    8/1/2019             1       married   49620   \n",
       "1   Male  Minnesota   81    8/1/2019             1       married   49620   \n",
       "2   Male  Minnesota   81    8/1/2019             1       married   49620   \n",
       "3   Male  Minnesota   81    8/1/2019             1       married   49620   \n",
       "4   Male  Minnesota   81    8/1/2019             1       married   49620   \n",
       "\n",
       "    region             exclusion_flag age_group   income_range  \\\n",
       "0  Midwest  Non-low-activity Customer       65+  25.000-50.000   \n",
       "1  Midwest  Non-low-activity Customer       65+  25.000-50.000   \n",
       "2  Midwest  Non-low-activity Customer       65+  25.000-50.000   \n",
       "3  Midwest  Non-low-activity Customer       65+  25.000-50.000   \n",
       "4  Midwest  Non-low-activity Customer       65+  25.000-50.000   \n",
       "\n",
       "       department day_of_week  \n",
       "0          snacks      Friday  \n",
       "1          snacks      Friday  \n",
       "2  meat & seafood    Thursday  \n",
       "3            bulk      Friday  \n",
       "4         produce    Thursday  "
      ]
     },
     "execution_count": 4,
     "metadata": {},
     "output_type": "execute_result"
    }
   ],
   "source": [
    "pd.options.display.max_columns = None\n",
    "df_final.head()"
   ]
  },
  {
   "cell_type": "markdown",
   "id": "846c93c7",
   "metadata": {},
   "source": [
    "### 03. Visualizations"
   ]
  },
  {
   "cell_type": "markdown",
   "id": "2e080517",
   "metadata": {},
   "source": [
    "#### 03.1 Visualizing orders by age group"
   ]
  },
  {
   "cell_type": "code",
   "execution_count": 5,
   "id": "9d786f37",
   "metadata": {},
   "outputs": [
    {
     "data": {
      "image/png": "[encoded data removed]",
      "text/plain": [
       "<Figure size 432x288 with 1 Axes>"
      ]
     },
     "metadata": {
      "needs_background": "light"
     },
     "output_type": "display_data"
    }
   ],
   "source": [
    "# Creating a bar chart for orders by age group\n",
    "bar_age_group = df_final['age_group'].value_counts().sort_index().plot.bar(color = sns.color_palette())\n",
    "plt.title('Orders by Age Group')\n",
    "plt.xlabel('Age Group')\n",
    "plt.ylabel('Orders')\n",
    "plt.ticklabel_format(style='plain', axis='y')"
   ]
  },
  {
   "cell_type": "code",
   "execution_count": 6,
   "id": "6aa3da96",
   "metadata": {},
   "outputs": [],
   "source": [
    "# Exporting the chart\n",
    "# Creating a path\n",
    "path = r'C:\\Users\\veren\\Python Data\\26-10-2021 Instacart Basket Analysis'"
   ]
  },
  {
   "cell_type": "code",
   "execution_count": 7,
   "id": "f3a24b02",
   "metadata": {},
   "outputs": [
    {
     "data": {
      "text/plain": [
       "'C:\\\\Users\\\\veren\\\\Python Data\\\\26-10-2021 Instacart Basket Analysis'"
      ]
     },
     "execution_count": 7,
     "metadata": {},
     "output_type": "execute_result"
    }
   ],
   "source": [
    "path"
   ]
  },
  {
   "cell_type": "code",
   "execution_count": 8,
   "id": "5851dd87",
   "metadata": {},
   "outputs": [],
   "source": [
    "# Exporting the chart\n",
    "bar_age_group.figure.savefig(os.path.join(path, '04 Analysis', 'Visualizations', 'bar_age_group_4.10.png'))"
   ]
  },
  {
   "cell_type": "markdown",
   "id": "3e5473c7",
   "metadata": {},
   "source": [
    "#### 03.2 Visualizing orders by income range"
   ]
  },
  {
   "cell_type": "code",
   "execution_count": 10,
   "id": "bce2df01",
   "metadata": {},
   "outputs": [
    {
     "data": {
      "image/png": "[encoded data removed]",
      "text/plain": [
       "<Figure size 432x288 with 1 Axes>"
      ]
     },
     "metadata": {
      "needs_background": "light"
     },
     "output_type": "display_data"
    }
   ],
   "source": [
    "# Creating a bar chart for orders by income range\n",
    "bar_income_range = df_final['income_range'].value_counts().plot.bar(color = sns.color_palette())\n",
    "plt.title('Orders by Income Range')\n",
    "plt.xlabel('Income Range (US-$)')\n",
    "plt.ylabel('Orders')\n",
    "plt.ticklabel_format(style='plain', axis='y')"
   ]
  },
  {
   "cell_type": "code",
   "execution_count": 11,
   "id": "4fc05e69",
   "metadata": {},
   "outputs": [],
   "source": [
    "# Exporting the chart\n",
    "bar_income_range.figure.savefig(os.path.join(path, '04 Analysis', 'Visualizations', 'bar_income_range_4.10.png'))"
   ]
  },
  {
   "cell_type": "markdown",
   "id": "e3a76a2a",
   "metadata": {},
   "source": [
    "#### 03.3 Visualizing orders by number of dependants"
   ]
  },
  {
   "cell_type": "code",
   "execution_count": 12,
   "id": "a3e6e2a9",
   "metadata": {},
   "outputs": [
    {
     "data": {
      "image/png": "[encoded data removed]",
      "text/plain": [
       "<Figure size 432x288 with 1 Axes>"
      ]
     },
     "metadata": {
      "needs_background": "light"
     },
     "output_type": "display_data"
    }
   ],
   "source": [
    "# Creating a bar chart for orders by number of dependants\n",
    "bar_n_dependants = df_final['n_dependants'].value_counts().plot.bar(color = sns.color_palette())\n",
    "plt.title('Orders by Number of Dependants')\n",
    "plt.xlabel('Number of Dependants')\n",
    "plt.ylabel('Orders')\n",
    "plt.ticklabel_format(style='plain', axis='y')"
   ]
  },
  {
   "cell_type": "code",
   "execution_count": 13,
   "id": "2455e37f",
   "metadata": {},
   "outputs": [],
   "source": [
    "# Exporting the chart\n",
    "bar_n_dependants.figure.savefig(os.path.join(path, '04 Analysis', 'Visualizations', 'bar_n_dependants_4.10.png'))"
   ]
  },
  {
   "cell_type": "markdown",
   "id": "ff30d26c",
   "metadata": {},
   "source": [
    "#### 03.4 Visualizing orders by day of the week"
   ]
  },
  {
   "cell_type": "code",
   "execution_count": 14,
   "id": "1e0058be",
   "metadata": {},
   "outputs": [
    {
     "data": {
      "image/png": "[encoded data removed]",
      "text/plain": [
       "<Figure size 432x288 with 1 Axes>"
      ]
     },
     "metadata": {
      "needs_background": "light"
     },
     "output_type": "display_data"
    }
   ],
   "source": [
    "# Creating a bar chart for orders by day of the week\n",
    "bar_day_of_week = df_final['day_of_week'].value_counts().plot.bar(color = sns.color_palette())\n",
    "plt.title('Orders by Day of Week')\n",
    "plt.xlabel('Day of Week')\n",
    "plt.ylabel('Orders')\n",
    "plt.ticklabel_format(style='plain', axis='y')"
   ]
  },
  {
   "cell_type": "code",
   "execution_count": 15,
   "id": "7f933435",
   "metadata": {},
   "outputs": [],
   "source": [
    "# Exporting the chart\n",
    "bar_day_of_week.figure.savefig(os.path.join(path, '04 Analysis', 'Visualizations', 'bar_day_of_week_4.10.png'))"
   ]
  },
  {
   "cell_type": "markdown",
   "id": "43696eb4",
   "metadata": {},
   "source": [
    "#### 03.5 Visualizing orders by family status"
   ]
  },
  {
   "cell_type": "code",
   "execution_count": 19,
   "id": "a28cf3bf",
   "metadata": {},
   "outputs": [
    {
     "data": {
      "image/png": "[encoded data removed]",
      "text/plain": [
       "<Figure size 432x288 with 1 Axes>"
      ]
     },
     "metadata": {},
     "output_type": "display_data"
    }
   ],
   "source": [
    "# Creating a pie chart for orders by family status\n",
    "pie_family_status = df_final['family_status'].value_counts().plot.pie(autopct='%1.1f%%', colors = sns.color_palette())"
   ]
  },
  {
   "cell_type": "code",
   "execution_count": 20,
   "id": "d195b573",
   "metadata": {},
   "outputs": [],
   "source": [
    "# Exporting the chart\n",
    "pie_family_status.figure.savefig(os.path.join(path, '04 Analysis', 'Visualizations', 'pie_family_status_4.10.png'))"
   ]
  },
  {
   "cell_type": "markdown",
   "id": "79b10a39",
   "metadata": {},
   "source": [
    "#### 03.5 Visualizing orders by department"
   ]
  },
  {
   "cell_type": "code",
   "execution_count": 21,
   "id": "f830bc79",
   "metadata": {},
   "outputs": [
    {
     "data": {
      "image/png": "[encoded data removed]",
      "text/plain": [
       "<Figure size 432x288 with 1 Axes>"
      ]
     },
     "metadata": {
      "needs_background": "light"
     },
     "output_type": "display_data"
    }
   ],
   "source": [
    "# Creating a bar chart for orders by department\n",
    "bar_ords_dept = df_final['department'].value_counts().plot.barh(color = sns.color_palette())\n",
    "plt.title('Orders by Department')\n",
    "plt.xlabel('Orders')\n",
    "plt.ylabel('Department')\n",
    "plt.ticklabel_format(style='plain', axis='x')"
   ]
  },
  {
   "cell_type": "code",
   "execution_count": 22,
   "id": "798ab1ab",
   "metadata": {},
   "outputs": [],
   "source": [
    "# Exporting the chart\n",
    "bar_ords_dept.figure.savefig(os.path.join(path, '04 Analysis', 'Visualizations', 'bar_orders_depts_4.10.png'))"
   ]
  },
  {
   "cell_type": "markdown",
   "id": "8109c1c4",
   "metadata": {},
   "source": [
    "#### 03.6 Visualizing orders per region"
   ]
  },
  {
   "cell_type": "code",
   "execution_count": 23,
   "id": "048008ea",
   "metadata": {},
   "outputs": [
    {
     "data": {
      "image/png": "[encoded data removed]",
      "text/plain": [
       "<Figure size 432x288 with 1 Axes>"
      ]
     },
     "metadata": {},
     "output_type": "display_data"
    }
   ],
   "source": [
    "# Creating a pie chart for orders per region\n",
    "pie_ords_region = df_final['region'].value_counts().plot.pie(autopct= '%1.1f%%', colors = sns.color_palette())"
   ]
  },
  {
   "cell_type": "code",
   "execution_count": 24,
   "id": "f199a906",
   "metadata": {},
   "outputs": [],
   "source": [
    "# Exporting the chart\n",
    "pie_ords_region.figure.savefig(os.path.join(path, '04 Analysis', 'Visualizations', 'pie_ords_region_4.10.png'))"
   ]
  },
  {
   "cell_type": "markdown",
   "id": "8299db12",
   "metadata": {},
   "source": []
  },
  {
   "cell_type": "code",
   "execution_count": null,
   "id": "9669e8e4",
   "metadata": {},
   "outputs": [],
   "source": []
  }
 ],
 "metadata": {
  "kernelspec": {
   "display_name": "Python 3",
   "language": "python",
   "name": "python3"
  },
  "language_info": {
   "codemirror_mode": {
    "name": "ipython",
    "version": 3
   },
   "file_extension": ".py",
   "mimetype": "text/x-python",
   "name": "python",
   "nbconvert_exporter": "python",
   "pygments_lexer": "ipython3",
   "version": "3.8.8"
  }
 },
 "nbformat": 4,
 "nbformat_minor": 5
}
