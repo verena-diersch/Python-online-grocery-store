{
 "cells": [
  {
   "cell_type": "markdown",
   "id": "1a527ac4",
   "metadata": {},
   "source": [
    "### 01. Importing libraries"
   ]
  },
  {
   "cell_type": "code",
   "execution_count": 1,
   "id": "2b53dda2",
   "metadata": {},
   "outputs": [],
   "source": [
    "import pandas as pd\n",
    "import numpy as np\n",
    "import os\n",
    "import matplotlib.pyplot as plt\n",
    "import seaborn as sns\n",
    "import scipy"
   ]
  },
  {
   "cell_type": "markdown",
   "id": "cf569260",
   "metadata": {},
   "source": [
    "### 02. Importing data set"
   ]
  },
  {
   "cell_type": "code",
   "execution_count": 2,
   "id": "56c7fe34",
   "metadata": {},
   "outputs": [],
   "source": [
    "ords_prods_merge = pd.read_pickle(r'C:\\Users\\veren\\Python Data\\26-10-2021 Instacart Basket Analysis\\02 Data\\Prepared Data\\ords_prods_merge_GDAV_whole.pkl')"
   ]
  },
  {
   "cell_type": "code",
   "execution_count": 3,
   "id": "d5585839",
   "metadata": {},
   "outputs": [
    {
     "data": {
      "text/plain": [
       "(30356128, 25)"
      ]
     },
     "execution_count": 3,
     "metadata": {},
     "output_type": "execute_result"
    }
   ],
   "source": [
    "ords_prods_merge.shape"
   ]
  },
  {
   "cell_type": "code",
   "execution_count": 4,
   "id": "60291936",
   "metadata": {},
   "outputs": [
    {
     "data": {
      "text/html": [
       "<div>\n",
       "<style scoped>\n",
       "    .dataframe tbody tr th:only-of-type {\n",
       "        vertical-align: middle;\n",
       "    }\n",
       "\n",
       "    .dataframe tbody tr th {\n",
       "        vertical-align: top;\n",
       "    }\n",
       "\n",
       "    .dataframe thead th {\n",
       "        text-align: right;\n",
       "    }\n",
       "</style>\n",
       "<table border=\"1\" class=\"dataframe\">\n",
       "  <thead>\n",
       "    <tr style=\"text-align: right;\">\n",
       "      <th></th>\n",
       "      <th>product_id</th>\n",
       "      <th>product_name</th>\n",
       "      <th>aisle_id</th>\n",
       "      <th>department_id</th>\n",
       "      <th>prices</th>\n",
       "      <th>order_id</th>\n",
       "      <th>user_id</th>\n",
       "      <th>eval_set</th>\n",
       "      <th>order_number</th>\n",
       "      <th>order_dow</th>\n",
       "      <th>...</th>\n",
       "      <th>price_range_loc</th>\n",
       "      <th>busiest day</th>\n",
       "      <th>busiest days</th>\n",
       "      <th>busiest_period_of_day</th>\n",
       "      <th>max_order</th>\n",
       "      <th>loyalty_flag</th>\n",
       "      <th>spending</th>\n",
       "      <th>spending_flag</th>\n",
       "      <th>frequency</th>\n",
       "      <th>frequency_flag</th>\n",
       "    </tr>\n",
       "  </thead>\n",
       "  <tbody>\n",
       "    <tr>\n",
       "      <th>0</th>\n",
       "      <td>1</td>\n",
       "      <td>Chocolate Sandwich Cookies</td>\n",
       "      <td>61</td>\n",
       "      <td>19</td>\n",
       "      <td>5.8</td>\n",
       "      <td>3139998</td>\n",
       "      <td>138</td>\n",
       "      <td>prior</td>\n",
       "      <td>28</td>\n",
       "      <td>6</td>\n",
       "      <td>...</td>\n",
       "      <td>Mid-range product</td>\n",
       "      <td>Regularly busy</td>\n",
       "      <td>Regularly busy</td>\n",
       "      <td>Most Orders</td>\n",
       "      <td>32</td>\n",
       "      <td>Regular customer</td>\n",
       "      <td>6.769286</td>\n",
       "      <td>Low Spender</td>\n",
       "      <td>8.0</td>\n",
       "      <td>Frequent customer</td>\n",
       "    </tr>\n",
       "    <tr>\n",
       "      <th>1</th>\n",
       "      <td>1</td>\n",
       "      <td>Chocolate Sandwich Cookies</td>\n",
       "      <td>61</td>\n",
       "      <td>19</td>\n",
       "      <td>5.8</td>\n",
       "      <td>1977647</td>\n",
       "      <td>138</td>\n",
       "      <td>prior</td>\n",
       "      <td>30</td>\n",
       "      <td>6</td>\n",
       "      <td>...</td>\n",
       "      <td>Mid-range product</td>\n",
       "      <td>Regularly busy</td>\n",
       "      <td>Regularly busy</td>\n",
       "      <td>Most Orders</td>\n",
       "      <td>32</td>\n",
       "      <td>Regular customer</td>\n",
       "      <td>6.769286</td>\n",
       "      <td>Low Spender</td>\n",
       "      <td>8.0</td>\n",
       "      <td>Frequent customer</td>\n",
       "    </tr>\n",
       "    <tr>\n",
       "      <th>2</th>\n",
       "      <td>1</td>\n",
       "      <td>Chocolate Sandwich Cookies</td>\n",
       "      <td>61</td>\n",
       "      <td>19</td>\n",
       "      <td>5.8</td>\n",
       "      <td>389851</td>\n",
       "      <td>709</td>\n",
       "      <td>prior</td>\n",
       "      <td>2</td>\n",
       "      <td>0</td>\n",
       "      <td>...</td>\n",
       "      <td>Mid-range product</td>\n",
       "      <td>Busiest day</td>\n",
       "      <td>Busiest days</td>\n",
       "      <td>Average Orders</td>\n",
       "      <td>5</td>\n",
       "      <td>New customer</td>\n",
       "      <td>8.071613</td>\n",
       "      <td>Low Spender</td>\n",
       "      <td>8.0</td>\n",
       "      <td>Frequent customer</td>\n",
       "    </tr>\n",
       "    <tr>\n",
       "      <th>3</th>\n",
       "      <td>1</td>\n",
       "      <td>Chocolate Sandwich Cookies</td>\n",
       "      <td>61</td>\n",
       "      <td>19</td>\n",
       "      <td>5.8</td>\n",
       "      <td>1813452</td>\n",
       "      <td>764</td>\n",
       "      <td>prior</td>\n",
       "      <td>3</td>\n",
       "      <td>4</td>\n",
       "      <td>...</td>\n",
       "      <td>Mid-range product</td>\n",
       "      <td>Least busy</td>\n",
       "      <td>Slowest days</td>\n",
       "      <td>Most Orders</td>\n",
       "      <td>3</td>\n",
       "      <td>New customer</td>\n",
       "      <td>4.864103</td>\n",
       "      <td>Low Spender</td>\n",
       "      <td>9.0</td>\n",
       "      <td>Frequent customer</td>\n",
       "    </tr>\n",
       "    <tr>\n",
       "      <th>4</th>\n",
       "      <td>1</td>\n",
       "      <td>Chocolate Sandwich Cookies</td>\n",
       "      <td>61</td>\n",
       "      <td>19</td>\n",
       "      <td>5.8</td>\n",
       "      <td>1701441</td>\n",
       "      <td>777</td>\n",
       "      <td>prior</td>\n",
       "      <td>16</td>\n",
       "      <td>1</td>\n",
       "      <td>...</td>\n",
       "      <td>Mid-range product</td>\n",
       "      <td>Regularly busy</td>\n",
       "      <td>Busiest days</td>\n",
       "      <td>Average Orders</td>\n",
       "      <td>26</td>\n",
       "      <td>Regular customer</td>\n",
       "      <td>6.906422</td>\n",
       "      <td>Low Spender</td>\n",
       "      <td>11.0</td>\n",
       "      <td>Regular customer</td>\n",
       "    </tr>\n",
       "  </tbody>\n",
       "</table>\n",
       "<p>5 rows × 25 columns</p>\n",
       "</div>"
      ],
      "text/plain": [
       "   product_id                product_name  aisle_id  department_id  prices  \\\n",
       "0           1  Chocolate Sandwich Cookies        61             19     5.8   \n",
       "1           1  Chocolate Sandwich Cookies        61             19     5.8   \n",
       "2           1  Chocolate Sandwich Cookies        61             19     5.8   \n",
       "3           1  Chocolate Sandwich Cookies        61             19     5.8   \n",
       "4           1  Chocolate Sandwich Cookies        61             19     5.8   \n",
       "\n",
       "   order_id  user_id eval_set  order_number  order_dow  ...  \\\n",
       "0   3139998      138    prior            28          6  ...   \n",
       "1   1977647      138    prior            30          6  ...   \n",
       "2    389851      709    prior             2          0  ...   \n",
       "3   1813452      764    prior             3          4  ...   \n",
       "4   1701441      777    prior            16          1  ...   \n",
       "\n",
       "     price_range_loc     busiest day    busiest days  busiest_period_of_day  \\\n",
       "0  Mid-range product  Regularly busy  Regularly busy            Most Orders   \n",
       "1  Mid-range product  Regularly busy  Regularly busy            Most Orders   \n",
       "2  Mid-range product     Busiest day    Busiest days         Average Orders   \n",
       "3  Mid-range product      Least busy    Slowest days            Most Orders   \n",
       "4  Mid-range product  Regularly busy    Busiest days         Average Orders   \n",
       "\n",
       "  max_order      loyalty_flag  spending spending_flag frequency  \\\n",
       "0        32  Regular customer  6.769286   Low Spender       8.0   \n",
       "1        32  Regular customer  6.769286   Low Spender       8.0   \n",
       "2         5      New customer  8.071613   Low Spender       8.0   \n",
       "3         3      New customer  4.864103   Low Spender       9.0   \n",
       "4        26  Regular customer  6.906422   Low Spender      11.0   \n",
       "\n",
       "      frequency_flag  \n",
       "0  Frequent customer  \n",
       "1  Frequent customer  \n",
       "2  Frequent customer  \n",
       "3  Frequent customer  \n",
       "4   Regular customer  \n",
       "\n",
       "[5 rows x 25 columns]"
      ]
     },
     "execution_count": 4,
     "metadata": {},
     "output_type": "execute_result"
    }
   ],
   "source": [
    "ords_prods_merge.head(5)"
   ]
  },
  {
   "cell_type": "markdown",
   "id": "50f586be",
   "metadata": {},
   "source": [
    "### 03. Bar charts"
   ]
  },
  {
   "cell_type": "code",
   "execution_count": 5,
   "id": "115e642f",
   "metadata": {},
   "outputs": [
    {
     "data": {
      "text/plain": [
       "<AxesSubplot:>"
      ]
     },
     "execution_count": 5,
     "metadata": {},
     "output_type": "execute_result"
    },
    {
     "data": {
      "image/png": "[encoded data removed]",
      "text/plain": [
       "<Figure size 432x288 with 1 Axes>"
      ]
     },
     "metadata": {
      "needs_background": "light"
     },
     "output_type": "display_data"
    }
   ],
   "source": [
    "ords_prods_merge['order_dow'].value_counts().plot.bar()"
   ]
  },
  {
   "cell_type": "code",
   "execution_count": 6,
   "id": "d7d3e834",
   "metadata": {},
   "outputs": [
    {
     "data": {
      "text/plain": [
       "matplotlib.axes._subplots.AxesSubplot"
      ]
     },
     "execution_count": 6,
     "metadata": {},
     "output_type": "execute_result"
    },
    {
     "data": {
      "image/png": "[encoded data removed]",
      "text/plain": [
       "<Figure size 432x288 with 1 Axes>"
      ]
     },
     "metadata": {
      "needs_background": "light"
     },
     "output_type": "display_data"
    }
   ],
   "source": [
    "type(ords_prods_merge['order_dow'].value_counts().plot.bar(color=['blue', 'green', 'yellow', 'orange', 'red','purple', 'pink']))"
   ]
  },
  {
   "cell_type": "code",
   "execution_count": 7,
   "id": "ecbb49bb",
   "metadata": {},
   "outputs": [
    {
     "data": {
      "image/png": "[encoded data removed]",
      "text/plain": [
       "<Figure size 432x288 with 1 Axes>"
      ]
     },
     "metadata": {
      "needs_background": "light"
     },
     "output_type": "display_data"
    }
   ],
   "source": [
    "bar = ords_prods_merge['order_dow'].value_counts().plot.bar(color =['purple', 'red', 'pink', 'orange', 'yellow', 'green', 'blue'])"
   ]
  },
  {
   "cell_type": "code",
   "execution_count": 8,
   "id": "d6572ae9",
   "metadata": {},
   "outputs": [],
   "source": [
    "# Exporting bar plot as png\n",
    "path = r'C:\\Users\\veren\\Python Data\\26-10-2021 Instacart Basket Analysis'"
   ]
  },
  {
   "cell_type": "code",
   "execution_count": 9,
   "id": "abb79b83",
   "metadata": {},
   "outputs": [],
   "source": [
    "bar.figure.savefig(os.path.join(path, '04 Analysis','Visualizations', 'bar_orders_dow_sc.png'))"
   ]
  },
  {
   "cell_type": "markdown",
   "id": "ab2f4491",
   "metadata": {},
   "source": [
    "### 04. Histograms"
   ]
  },
  {
   "cell_type": "code",
   "execution_count": 10,
   "id": "4eb47074",
   "metadata": {},
   "outputs": [
    {
     "data": {
      "text/plain": [
       "<AxesSubplot:ylabel='Frequency'>"
      ]
     },
     "execution_count": 10,
     "metadata": {},
     "output_type": "execute_result"
    },
    {
     "data": {
      "image/png": "[encoded data removed]",
      "text/plain": [
       "<Figure size 432x288 with 1 Axes>"
      ]
     },
     "metadata": {
      "needs_background": "light"
     },
     "output_type": "display_data"
    }
   ],
   "source": [
    "ords_prods_merge['prices'].plot.hist(bins = 25)"
   ]
  },
  {
   "cell_type": "code",
   "execution_count": 11,
   "id": "f620676b",
   "metadata": {},
   "outputs": [
    {
     "data": {
      "text/plain": [
       "count    3.035613e+07\n",
       "mean     1.197817e+01\n",
       "std      4.961492e+02\n",
       "min      1.000000e+00\n",
       "25%      4.200000e+00\n",
       "50%      7.400000e+00\n",
       "75%      1.130000e+01\n",
       "max      9.999900e+04\n",
       "Name: prices, dtype: float64"
      ]
     },
     "execution_count": 11,
     "metadata": {},
     "output_type": "execute_result"
    }
   ],
   "source": [
    "ords_prods_merge['prices'].describe()"
   ]
  },
  {
   "cell_type": "markdown",
   "id": "71b1bd0e",
   "metadata": {},
   "source": [
    "### 05. Scatterplots"
   ]
  },
  {
   "cell_type": "code",
   "execution_count": 12,
   "id": "03d6395d",
   "metadata": {},
   "outputs": [
    {
     "data": {
      "text/plain": [
       "<AxesSubplot:xlabel='prices', ylabel='prices'>"
      ]
     },
     "execution_count": 12,
     "metadata": {},
     "output_type": "execute_result"
    },
    {
     "data": {
      "image/png": "[encoded data removed]",
      "text/plain": [
       "<Figure size 432x288 with 1 Axes>"
      ]
     },
     "metadata": {
      "needs_background": "light"
     },
     "output_type": "display_data"
    }
   ],
   "source": [
    "sns.scatterplot(x = 'prices', y = 'prices',data = ords_prods_merge)"
   ]
  },
  {
   "cell_type": "code",
   "execution_count": 13,
   "id": "24f7888b",
   "metadata": {},
   "outputs": [
    {
     "data": {
      "text/html": [
       "<div>\n",
       "<style scoped>\n",
       "    .dataframe tbody tr th:only-of-type {\n",
       "        vertical-align: middle;\n",
       "    }\n",
       "\n",
       "    .dataframe tbody tr th {\n",
       "        vertical-align: top;\n",
       "    }\n",
       "\n",
       "    .dataframe thead th {\n",
       "        text-align: right;\n",
       "    }\n",
       "</style>\n",
       "<table border=\"1\" class=\"dataframe\">\n",
       "  <thead>\n",
       "    <tr style=\"text-align: right;\">\n",
       "      <th></th>\n",
       "      <th>product_id</th>\n",
       "      <th>product_name</th>\n",
       "      <th>aisle_id</th>\n",
       "      <th>department_id</th>\n",
       "      <th>prices</th>\n",
       "      <th>order_id</th>\n",
       "      <th>user_id</th>\n",
       "      <th>eval_set</th>\n",
       "      <th>order_number</th>\n",
       "      <th>order_dow</th>\n",
       "      <th>...</th>\n",
       "      <th>price_range_loc</th>\n",
       "      <th>busiest day</th>\n",
       "      <th>busiest days</th>\n",
       "      <th>busiest_period_of_day</th>\n",
       "      <th>max_order</th>\n",
       "      <th>loyalty_flag</th>\n",
       "      <th>spending</th>\n",
       "      <th>spending_flag</th>\n",
       "      <th>frequency</th>\n",
       "      <th>frequency_flag</th>\n",
       "    </tr>\n",
       "  </thead>\n",
       "  <tbody>\n",
       "    <tr>\n",
       "      <th>12288673</th>\n",
       "      <td>21553</td>\n",
       "      <td>Lowfat 2% Milkfat Cottage Cheese</td>\n",
       "      <td>108</td>\n",
       "      <td>16</td>\n",
       "      <td>14900.0</td>\n",
       "      <td>912404</td>\n",
       "      <td>17</td>\n",
       "      <td>prior</td>\n",
       "      <td>12</td>\n",
       "      <td>2</td>\n",
       "      <td>...</td>\n",
       "      <td>High-range product</td>\n",
       "      <td>Regularly busy</td>\n",
       "      <td>Regularly busy</td>\n",
       "      <td>Most Orders</td>\n",
       "      <td>40</td>\n",
       "      <td>Regular customer</td>\n",
       "      <td>109.670103</td>\n",
       "      <td>High Spender</td>\n",
       "      <td>5.0</td>\n",
       "      <td>Frequent customer</td>\n",
       "    </tr>\n",
       "    <tr>\n",
       "      <th>12288674</th>\n",
       "      <td>21553</td>\n",
       "      <td>Lowfat 2% Milkfat Cottage Cheese</td>\n",
       "      <td>108</td>\n",
       "      <td>16</td>\n",
       "      <td>14900.0</td>\n",
       "      <td>603376</td>\n",
       "      <td>17</td>\n",
       "      <td>prior</td>\n",
       "      <td>22</td>\n",
       "      <td>6</td>\n",
       "      <td>...</td>\n",
       "      <td>High-range product</td>\n",
       "      <td>Regularly busy</td>\n",
       "      <td>Regularly busy</td>\n",
       "      <td>Most Orders</td>\n",
       "      <td>40</td>\n",
       "      <td>Regular customer</td>\n",
       "      <td>109.670103</td>\n",
       "      <td>High Spender</td>\n",
       "      <td>5.0</td>\n",
       "      <td>Frequent customer</td>\n",
       "    </tr>\n",
       "    <tr>\n",
       "      <th>12288675</th>\n",
       "      <td>21553</td>\n",
       "      <td>Lowfat 2% Milkfat Cottage Cheese</td>\n",
       "      <td>108</td>\n",
       "      <td>16</td>\n",
       "      <td>14900.0</td>\n",
       "      <td>3264360</td>\n",
       "      <td>135</td>\n",
       "      <td>prior</td>\n",
       "      <td>2</td>\n",
       "      <td>2</td>\n",
       "      <td>...</td>\n",
       "      <td>High-range product</td>\n",
       "      <td>Regularly busy</td>\n",
       "      <td>Regularly busy</td>\n",
       "      <td>Average Orders</td>\n",
       "      <td>4</td>\n",
       "      <td>New customer</td>\n",
       "      <td>1250.245833</td>\n",
       "      <td>High Spender</td>\n",
       "      <td>12.0</td>\n",
       "      <td>Regular customer</td>\n",
       "    </tr>\n",
       "    <tr>\n",
       "      <th>12288676</th>\n",
       "      <td>21553</td>\n",
       "      <td>Lowfat 2% Milkfat Cottage Cheese</td>\n",
       "      <td>108</td>\n",
       "      <td>16</td>\n",
       "      <td>14900.0</td>\n",
       "      <td>892534</td>\n",
       "      <td>135</td>\n",
       "      <td>prior</td>\n",
       "      <td>3</td>\n",
       "      <td>0</td>\n",
       "      <td>...</td>\n",
       "      <td>High-range product</td>\n",
       "      <td>Busiest day</td>\n",
       "      <td>Busiest days</td>\n",
       "      <td>Most Orders</td>\n",
       "      <td>4</td>\n",
       "      <td>New customer</td>\n",
       "      <td>1250.245833</td>\n",
       "      <td>High Spender</td>\n",
       "      <td>12.0</td>\n",
       "      <td>Regular customer</td>\n",
       "    </tr>\n",
       "    <tr>\n",
       "      <th>12288677</th>\n",
       "      <td>21553</td>\n",
       "      <td>Lowfat 2% Milkfat Cottage Cheese</td>\n",
       "      <td>108</td>\n",
       "      <td>16</td>\n",
       "      <td>14900.0</td>\n",
       "      <td>229704</td>\n",
       "      <td>342</td>\n",
       "      <td>prior</td>\n",
       "      <td>8</td>\n",
       "      <td>1</td>\n",
       "      <td>...</td>\n",
       "      <td>High-range product</td>\n",
       "      <td>Regularly busy</td>\n",
       "      <td>Busiest days</td>\n",
       "      <td>Most Orders</td>\n",
       "      <td>16</td>\n",
       "      <td>Regular customer</td>\n",
       "      <td>120.090909</td>\n",
       "      <td>High Spender</td>\n",
       "      <td>23.0</td>\n",
       "      <td>Non-frequent customer</td>\n",
       "    </tr>\n",
       "    <tr>\n",
       "      <th>...</th>\n",
       "      <td>...</td>\n",
       "      <td>...</td>\n",
       "      <td>...</td>\n",
       "      <td>...</td>\n",
       "      <td>...</td>\n",
       "      <td>...</td>\n",
       "      <td>...</td>\n",
       "      <td>...</td>\n",
       "      <td>...</td>\n",
       "      <td>...</td>\n",
       "      <td>...</td>\n",
       "      <td>...</td>\n",
       "      <td>...</td>\n",
       "      <td>...</td>\n",
       "      <td>...</td>\n",
       "      <td>...</td>\n",
       "      <td>...</td>\n",
       "      <td>...</td>\n",
       "      <td>...</td>\n",
       "      <td>...</td>\n",
       "      <td>...</td>\n",
       "    </tr>\n",
       "    <tr>\n",
       "      <th>20419185</th>\n",
       "      <td>33664</td>\n",
       "      <td>2 % Reduced Fat  Milk</td>\n",
       "      <td>84</td>\n",
       "      <td>16</td>\n",
       "      <td>99999.0</td>\n",
       "      <td>2249946</td>\n",
       "      <td>204099</td>\n",
       "      <td>prior</td>\n",
       "      <td>29</td>\n",
       "      <td>0</td>\n",
       "      <td>...</td>\n",
       "      <td>High-range product</td>\n",
       "      <td>Busiest day</td>\n",
       "      <td>Busiest days</td>\n",
       "      <td>Most Orders</td>\n",
       "      <td>39</td>\n",
       "      <td>Regular customer</td>\n",
       "      <td>1137.802260</td>\n",
       "      <td>High Spender</td>\n",
       "      <td>4.0</td>\n",
       "      <td>Frequent customer</td>\n",
       "    </tr>\n",
       "    <tr>\n",
       "      <th>20419186</th>\n",
       "      <td>33664</td>\n",
       "      <td>2 % Reduced Fat  Milk</td>\n",
       "      <td>84</td>\n",
       "      <td>16</td>\n",
       "      <td>99999.0</td>\n",
       "      <td>2363282</td>\n",
       "      <td>204099</td>\n",
       "      <td>prior</td>\n",
       "      <td>31</td>\n",
       "      <td>0</td>\n",
       "      <td>...</td>\n",
       "      <td>High-range product</td>\n",
       "      <td>Busiest day</td>\n",
       "      <td>Busiest days</td>\n",
       "      <td>Most Orders</td>\n",
       "      <td>39</td>\n",
       "      <td>Regular customer</td>\n",
       "      <td>1137.802260</td>\n",
       "      <td>High Spender</td>\n",
       "      <td>4.0</td>\n",
       "      <td>Frequent customer</td>\n",
       "    </tr>\n",
       "    <tr>\n",
       "      <th>20419187</th>\n",
       "      <td>33664</td>\n",
       "      <td>2 % Reduced Fat  Milk</td>\n",
       "      <td>84</td>\n",
       "      <td>16</td>\n",
       "      <td>99999.0</td>\n",
       "      <td>3181945</td>\n",
       "      <td>204395</td>\n",
       "      <td>prior</td>\n",
       "      <td>13</td>\n",
       "      <td>3</td>\n",
       "      <td>...</td>\n",
       "      <td>High-range product</td>\n",
       "      <td>Regularly busy</td>\n",
       "      <td>Slowest days</td>\n",
       "      <td>Most Orders</td>\n",
       "      <td>15</td>\n",
       "      <td>Regular customer</td>\n",
       "      <td>487.075120</td>\n",
       "      <td>High Spender</td>\n",
       "      <td>5.0</td>\n",
       "      <td>Frequent customer</td>\n",
       "    </tr>\n",
       "    <tr>\n",
       "      <th>20419188</th>\n",
       "      <td>33664</td>\n",
       "      <td>2 % Reduced Fat  Milk</td>\n",
       "      <td>84</td>\n",
       "      <td>16</td>\n",
       "      <td>99999.0</td>\n",
       "      <td>2486215</td>\n",
       "      <td>205227</td>\n",
       "      <td>prior</td>\n",
       "      <td>7</td>\n",
       "      <td>3</td>\n",
       "      <td>...</td>\n",
       "      <td>High-range product</td>\n",
       "      <td>Regularly busy</td>\n",
       "      <td>Slowest days</td>\n",
       "      <td>Average Orders</td>\n",
       "      <td>12</td>\n",
       "      <td>Regular customer</td>\n",
       "      <td>1235.679755</td>\n",
       "      <td>High Spender</td>\n",
       "      <td>12.0</td>\n",
       "      <td>Regular customer</td>\n",
       "    </tr>\n",
       "    <tr>\n",
       "      <th>20419189</th>\n",
       "      <td>33664</td>\n",
       "      <td>2 % Reduced Fat  Milk</td>\n",
       "      <td>84</td>\n",
       "      <td>16</td>\n",
       "      <td>99999.0</td>\n",
       "      <td>2232716</td>\n",
       "      <td>205227</td>\n",
       "      <td>prior</td>\n",
       "      <td>10</td>\n",
       "      <td>0</td>\n",
       "      <td>...</td>\n",
       "      <td>High-range product</td>\n",
       "      <td>Busiest day</td>\n",
       "      <td>Busiest days</td>\n",
       "      <td>Most Orders</td>\n",
       "      <td>12</td>\n",
       "      <td>Regular customer</td>\n",
       "      <td>1235.679755</td>\n",
       "      <td>High Spender</td>\n",
       "      <td>12.0</td>\n",
       "      <td>Regular customer</td>\n",
       "    </tr>\n",
       "  </tbody>\n",
       "</table>\n",
       "<p>4776 rows × 25 columns</p>\n",
       "</div>"
      ],
      "text/plain": [
       "          product_id                      product_name  aisle_id  \\\n",
       "12288673       21553  Lowfat 2% Milkfat Cottage Cheese       108   \n",
       "12288674       21553  Lowfat 2% Milkfat Cottage Cheese       108   \n",
       "12288675       21553  Lowfat 2% Milkfat Cottage Cheese       108   \n",
       "12288676       21553  Lowfat 2% Milkfat Cottage Cheese       108   \n",
       "12288677       21553  Lowfat 2% Milkfat Cottage Cheese       108   \n",
       "...              ...                               ...       ...   \n",
       "20419185       33664             2 % Reduced Fat  Milk        84   \n",
       "20419186       33664             2 % Reduced Fat  Milk        84   \n",
       "20419187       33664             2 % Reduced Fat  Milk        84   \n",
       "20419188       33664             2 % Reduced Fat  Milk        84   \n",
       "20419189       33664             2 % Reduced Fat  Milk        84   \n",
       "\n",
       "          department_id   prices  order_id  user_id eval_set  order_number  \\\n",
       "12288673             16  14900.0    912404       17    prior            12   \n",
       "12288674             16  14900.0    603376       17    prior            22   \n",
       "12288675             16  14900.0   3264360      135    prior             2   \n",
       "12288676             16  14900.0    892534      135    prior             3   \n",
       "12288677             16  14900.0    229704      342    prior             8   \n",
       "...                 ...      ...       ...      ...      ...           ...   \n",
       "20419185             16  99999.0   2249946   204099    prior            29   \n",
       "20419186             16  99999.0   2363282   204099    prior            31   \n",
       "20419187             16  99999.0   3181945   204395    prior            13   \n",
       "20419188             16  99999.0   2486215   205227    prior             7   \n",
       "20419189             16  99999.0   2232716   205227    prior            10   \n",
       "\n",
       "          order_dow  ...     price_range_loc     busiest day    busiest days  \\\n",
       "12288673          2  ...  High-range product  Regularly busy  Regularly busy   \n",
       "12288674          6  ...  High-range product  Regularly busy  Regularly busy   \n",
       "12288675          2  ...  High-range product  Regularly busy  Regularly busy   \n",
       "12288676          0  ...  High-range product     Busiest day    Busiest days   \n",
       "12288677          1  ...  High-range product  Regularly busy    Busiest days   \n",
       "...             ...  ...                 ...             ...             ...   \n",
       "20419185          0  ...  High-range product     Busiest day    Busiest days   \n",
       "20419186          0  ...  High-range product     Busiest day    Busiest days   \n",
       "20419187          3  ...  High-range product  Regularly busy    Slowest days   \n",
       "20419188          3  ...  High-range product  Regularly busy    Slowest days   \n",
       "20419189          0  ...  High-range product     Busiest day    Busiest days   \n",
       "\n",
       "          busiest_period_of_day max_order      loyalty_flag     spending  \\\n",
       "12288673            Most Orders        40  Regular customer   109.670103   \n",
       "12288674            Most Orders        40  Regular customer   109.670103   \n",
       "12288675         Average Orders         4      New customer  1250.245833   \n",
       "12288676            Most Orders         4      New customer  1250.245833   \n",
       "12288677            Most Orders        16  Regular customer   120.090909   \n",
       "...                         ...       ...               ...          ...   \n",
       "20419185            Most Orders        39  Regular customer  1137.802260   \n",
       "20419186            Most Orders        39  Regular customer  1137.802260   \n",
       "20419187            Most Orders        15  Regular customer   487.075120   \n",
       "20419188         Average Orders        12  Regular customer  1235.679755   \n",
       "20419189            Most Orders        12  Regular customer  1235.679755   \n",
       "\n",
       "         spending_flag frequency         frequency_flag  \n",
       "12288673  High Spender       5.0      Frequent customer  \n",
       "12288674  High Spender       5.0      Frequent customer  \n",
       "12288675  High Spender      12.0       Regular customer  \n",
       "12288676  High Spender      12.0       Regular customer  \n",
       "12288677  High Spender      23.0  Non-frequent customer  \n",
       "...                ...       ...                    ...  \n",
       "20419185  High Spender       4.0      Frequent customer  \n",
       "20419186  High Spender       4.0      Frequent customer  \n",
       "20419187  High Spender       5.0      Frequent customer  \n",
       "20419188  High Spender      12.0       Regular customer  \n",
       "20419189  High Spender      12.0       Regular customer  \n",
       "\n",
       "[4776 rows x 25 columns]"
      ]
     },
     "execution_count": 13,
     "metadata": {},
     "output_type": "execute_result"
    }
   ],
   "source": [
    "# Investigating this range\n",
    "# Looking for \"normal prices\" and outliers\n",
    "# (If you imagined the maximum price anyone would pay in a supermarket were around $100)\n",
    "ords_prods_merge.loc[ords_prods_merge['prices'] > 100]"
   ]
  },
  {
   "cell_type": "code",
   "execution_count": 14,
   "id": "d2358148",
   "metadata": {},
   "outputs": [],
   "source": [
    "# Mark extreme values as missing\n",
    "ords_prods_merge.loc[ords_prods_merge['prices'] >100, 'prices'] = np.nan"
   ]
  },
  {
   "cell_type": "code",
   "execution_count": 15,
   "id": "32880713",
   "metadata": {},
   "outputs": [
    {
     "data": {
      "text/plain": [
       "25.0"
      ]
     },
     "execution_count": 15,
     "metadata": {},
     "output_type": "execute_result"
    }
   ],
   "source": [
    "# new max value check\n",
    "ords_prods_merge['prices'].max()"
   ]
  },
  {
   "cell_type": "code",
   "execution_count": 16,
   "id": "0605e20c",
   "metadata": {},
   "outputs": [
    {
     "data": {
      "image/png": "[encoded data removed]",
      "text/plain": [
       "<Figure size 432x288 with 1 Axes>"
      ]
     },
     "metadata": {
      "needs_background": "light"
     },
     "output_type": "display_data"
    }
   ],
   "source": [
    "# Trying the histogram again\n",
    "hist = ords_prods_merge['prices'].plot.hist(bins = 25)"
   ]
  },
  {
   "cell_type": "code",
   "execution_count": 17,
   "id": "ce118ad7",
   "metadata": {},
   "outputs": [
    {
     "data": {
      "image/png": "[encoded data removed]",
      "text/plain": [
       "<Figure size 432x288 with 1 Axes>"
      ]
     },
     "metadata": {
      "needs_background": "light"
     },
     "output_type": "display_data"
    }
   ],
   "source": [
    "# Increasing the number of bins\n",
    "hist_2 = ords_prods_merge['prices'].plot.hist(bins = 70)"
   ]
  },
  {
   "cell_type": "code",
   "execution_count": 18,
   "id": "09517743",
   "metadata": {},
   "outputs": [],
   "source": [
    "# Exporting hist_2\n",
    "hist_2.figure.savefig(os.path.join(path, '04 Analysis','Visualizations', 'hist_prices_sc.png'))"
   ]
  },
  {
   "cell_type": "code",
   "execution_count": 19,
   "id": "8f0f4df5",
   "metadata": {},
   "outputs": [
    {
     "data": {
      "image/png": "[encoded data removed]",
      "text/plain": [
       "<Figure size 432x288 with 1 Axes>"
      ]
     },
     "metadata": {
      "needs_background": "light"
     },
     "output_type": "display_data"
    }
   ],
   "source": [
    "hist_3 = ords_prods_merge['prices'].plot.hist(bins = 70)\n",
    "hist_3.ticklabel_format(style='plain')    # prevents scientific notation"
   ]
  },
  {
   "cell_type": "code",
   "execution_count": 20,
   "id": "c99f4b95",
   "metadata": {},
   "outputs": [],
   "source": [
    "# Exporting hist_3\n",
    "hist_3.figure.savefig(os.path.join(path, '04 Analysis','Visualizations', 'hist_prices.png'))"
   ]
  },
  {
   "cell_type": "code",
   "execution_count": 21,
   "id": "fd2e2ba2",
   "metadata": {},
   "outputs": [],
   "source": [
    "# Create a list holding true/false values to test np.random.rand() <= 0,7\n",
    "np.random.seed(4)\n",
    "dev = np.random.rand(len(ords_prods_merge)) <= 0.7"
   ]
  },
  {
   "cell_type": "code",
   "execution_count": 22,
   "id": "5ab7ff65",
   "metadata": {},
   "outputs": [],
   "source": [
    "# Store 70 % of the sample in the dataframe big\n",
    "big = ords_prods_merge[dev]"
   ]
  },
  {
   "cell_type": "code",
   "execution_count": 23,
   "id": "a4abd568",
   "metadata": {},
   "outputs": [],
   "source": [
    "# Store 30 % of the sample in the dataframe small\n",
    "small = ords_prods_merge[~dev]"
   ]
  },
  {
   "cell_type": "code",
   "execution_count": 24,
   "id": "295c260f",
   "metadata": {},
   "outputs": [
    {
     "data": {
      "text/plain": [
       "30356128"
      ]
     },
     "execution_count": 24,
     "metadata": {},
     "output_type": "execute_result"
    }
   ],
   "source": [
    "# Checking if the two samples together are as big as ords_prods_merge\n",
    "len(ords_prods_merge)"
   ]
  },
  {
   "cell_type": "code",
   "execution_count": 25,
   "id": "2170a2a2",
   "metadata": {},
   "outputs": [
    {
     "data": {
      "text/plain": [
       "30356128"
      ]
     },
     "execution_count": 25,
     "metadata": {},
     "output_type": "execute_result"
    }
   ],
   "source": [
    "len(big) + len(small)"
   ]
  },
  {
   "cell_type": "code",
   "execution_count": 26,
   "id": "81b7cf4b",
   "metadata": {},
   "outputs": [],
   "source": [
    "# Reducing the samples to only those columns necessary for the chart, namely “prices” and “orders_day_of_the_week”\n",
    "df_2 = small[['order_dow','prices']]"
   ]
  },
  {
   "cell_type": "code",
   "execution_count": 27,
   "id": "f55dd9f8",
   "metadata": {},
   "outputs": [
    {
     "data": {
      "image/png": "[encoded data removed]",
      "text/plain": [
       "<Figure size 432x288 with 1 Axes>"
      ]
     },
     "metadata": {
      "needs_background": "light"
     },
     "output_type": "display_data"
    }
   ],
   "source": [
    "# Creating a line chart\n",
    "line = sns.lineplot(data = df_2, x = 'order_dow',y = 'prices')"
   ]
  },
  {
   "cell_type": "code",
   "execution_count": 29,
   "id": "a5423780",
   "metadata": {},
   "outputs": [
    {
     "data": {
      "text/html": [
       "<div>\n",
       "<style scoped>\n",
       "    .dataframe tbody tr th:only-of-type {\n",
       "        vertical-align: middle;\n",
       "    }\n",
       "\n",
       "    .dataframe tbody tr th {\n",
       "        vertical-align: top;\n",
       "    }\n",
       "\n",
       "    .dataframe thead th {\n",
       "        text-align: right;\n",
       "    }\n",
       "</style>\n",
       "<table border=\"1\" class=\"dataframe\">\n",
       "  <thead>\n",
       "    <tr style=\"text-align: right;\">\n",
       "      <th></th>\n",
       "      <th>order_dow</th>\n",
       "      <th>prices</th>\n",
       "    </tr>\n",
       "  </thead>\n",
       "  <tbody>\n",
       "    <tr>\n",
       "      <th>count</th>\n",
       "      <td>9.105728e+06</td>\n",
       "      <td>9.104298e+06</td>\n",
       "    </tr>\n",
       "    <tr>\n",
       "      <th>mean</th>\n",
       "      <td>2.740827e+00</td>\n",
       "      <td>7.795391e+00</td>\n",
       "    </tr>\n",
       "    <tr>\n",
       "      <th>std</th>\n",
       "      <td>2.087850e+00</td>\n",
       "      <td>4.242424e+00</td>\n",
       "    </tr>\n",
       "    <tr>\n",
       "      <th>min</th>\n",
       "      <td>0.000000e+00</td>\n",
       "      <td>1.000000e+00</td>\n",
       "    </tr>\n",
       "    <tr>\n",
       "      <th>25%</th>\n",
       "      <td>1.000000e+00</td>\n",
       "      <td>4.200000e+00</td>\n",
       "    </tr>\n",
       "    <tr>\n",
       "      <th>50%</th>\n",
       "      <td>3.000000e+00</td>\n",
       "      <td>7.400000e+00</td>\n",
       "    </tr>\n",
       "    <tr>\n",
       "      <th>75%</th>\n",
       "      <td>5.000000e+00</td>\n",
       "      <td>1.130000e+01</td>\n",
       "    </tr>\n",
       "    <tr>\n",
       "      <th>max</th>\n",
       "      <td>6.000000e+00</td>\n",
       "      <td>2.500000e+01</td>\n",
       "    </tr>\n",
       "  </tbody>\n",
       "</table>\n",
       "</div>"
      ],
      "text/plain": [
       "          order_dow        prices\n",
       "count  9.105728e+06  9.104298e+06\n",
       "mean   2.740827e+00  7.795391e+00\n",
       "std    2.087850e+00  4.242424e+00\n",
       "min    0.000000e+00  1.000000e+00\n",
       "25%    1.000000e+00  4.200000e+00\n",
       "50%    3.000000e+00  7.400000e+00\n",
       "75%    5.000000e+00  1.130000e+01\n",
       "max    6.000000e+00  2.500000e+01"
      ]
     },
     "execution_count": 29,
     "metadata": {},
     "output_type": "execute_result"
    }
   ],
   "source": [
    "df_2.describe()"
   ]
  },
  {
   "cell_type": "code",
   "execution_count": 32,
   "id": "d86ccb06",
   "metadata": {},
   "outputs": [
    {
     "data": {
      "text/html": [
       "<div>\n",
       "<style scoped>\n",
       "    .dataframe tbody tr th:only-of-type {\n",
       "        vertical-align: middle;\n",
       "    }\n",
       "\n",
       "    .dataframe tbody tr th {\n",
       "        vertical-align: top;\n",
       "    }\n",
       "\n",
       "    .dataframe thead th {\n",
       "        text-align: right;\n",
       "    }\n",
       "</style>\n",
       "<table border=\"1\" class=\"dataframe\">\n",
       "  <thead>\n",
       "    <tr style=\"text-align: right;\">\n",
       "      <th></th>\n",
       "      <th>product_id</th>\n",
       "      <th>aisle_id</th>\n",
       "      <th>department_id</th>\n",
       "      <th>prices</th>\n",
       "      <th>order_id</th>\n",
       "      <th>user_id</th>\n",
       "      <th>order_number</th>\n",
       "      <th>order_dow</th>\n",
       "      <th>order_hour_of_day</th>\n",
       "      <th>days_since_prior_order</th>\n",
       "      <th>add_to_cart_order</th>\n",
       "      <th>reordered</th>\n",
       "      <th>max_order</th>\n",
       "      <th>spending</th>\n",
       "      <th>frequency</th>\n",
       "    </tr>\n",
       "  </thead>\n",
       "  <tbody>\n",
       "    <tr>\n",
       "      <th>count</th>\n",
       "      <td>3.035613e+07</td>\n",
       "      <td>3.035613e+07</td>\n",
       "      <td>3.035613e+07</td>\n",
       "      <td>3.035135e+07</td>\n",
       "      <td>3.035613e+07</td>\n",
       "      <td>3.035613e+07</td>\n",
       "      <td>3.035613e+07</td>\n",
       "      <td>3.035613e+07</td>\n",
       "      <td>3.035613e+07</td>\n",
       "      <td>3.035613e+07</td>\n",
       "      <td>3.035613e+07</td>\n",
       "      <td>3.035613e+07</td>\n",
       "      <td>3.035613e+07</td>\n",
       "      <td>3.035613e+07</td>\n",
       "      <td>3.035613e+07</td>\n",
       "    </tr>\n",
       "    <tr>\n",
       "      <th>mean</th>\n",
       "      <td>2.557567e+04</td>\n",
       "      <td>7.121206e+01</td>\n",
       "      <td>9.924463e+00</td>\n",
       "      <td>7.796148e+00</td>\n",
       "      <td>1.710737e+06</td>\n",
       "      <td>1.029341e+05</td>\n",
       "      <td>1.824695e+01</td>\n",
       "      <td>2.740773e+00</td>\n",
       "      <td>1.341127e+01</td>\n",
       "      <td>1.110416e+01</td>\n",
       "      <td>8.354250e+00</td>\n",
       "      <td>6.300570e-01</td>\n",
       "      <td>3.420214e+01</td>\n",
       "      <td>1.197817e+01</td>\n",
       "      <td>1.008828e+01</td>\n",
       "    </tr>\n",
       "    <tr>\n",
       "      <th>std</th>\n",
       "      <td>1.409400e+04</td>\n",
       "      <td>3.820700e+01</td>\n",
       "      <td>6.281675e+00</td>\n",
       "      <td>4.242736e+00</td>\n",
       "      <td>9.872450e+05</td>\n",
       "      <td>5.946892e+04</td>\n",
       "      <td>1.759155e+01</td>\n",
       "      <td>2.087922e+00</td>\n",
       "      <td>4.246803e+00</td>\n",
       "      <td>8.778943e+00</td>\n",
       "      <td>7.133558e+00</td>\n",
       "      <td>4.827890e-01</td>\n",
       "      <td>2.521052e+01</td>\n",
       "      <td>8.424331e+01</td>\n",
       "      <td>6.885180e+00</td>\n",
       "    </tr>\n",
       "    <tr>\n",
       "      <th>min</th>\n",
       "      <td>1.000000e+00</td>\n",
       "      <td>1.000000e+00</td>\n",
       "      <td>1.000000e+00</td>\n",
       "      <td>1.000000e+00</td>\n",
       "      <td>2.000000e+00</td>\n",
       "      <td>1.000000e+00</td>\n",
       "      <td>2.000000e+00</td>\n",
       "      <td>0.000000e+00</td>\n",
       "      <td>0.000000e+00</td>\n",
       "      <td>0.000000e+00</td>\n",
       "      <td>1.000000e+00</td>\n",
       "      <td>0.000000e+00</td>\n",
       "      <td>3.000000e+00</td>\n",
       "      <td>1.000000e+00</td>\n",
       "      <td>0.000000e+00</td>\n",
       "    </tr>\n",
       "    <tr>\n",
       "      <th>25%</th>\n",
       "      <td>1.352500e+04</td>\n",
       "      <td>3.100000e+01</td>\n",
       "      <td>4.000000e+00</td>\n",
       "      <td>4.200000e+00</td>\n",
       "      <td>8.561395e+05</td>\n",
       "      <td>5.140900e+04</td>\n",
       "      <td>6.000000e+00</td>\n",
       "      <td>1.000000e+00</td>\n",
       "      <td>1.000000e+01</td>\n",
       "      <td>5.000000e+00</td>\n",
       "      <td>3.000000e+00</td>\n",
       "      <td>0.000000e+00</td>\n",
       "      <td>1.400000e+01</td>\n",
       "      <td>7.390270e+00</td>\n",
       "      <td>6.000000e+00</td>\n",
       "    </tr>\n",
       "    <tr>\n",
       "      <th>50%</th>\n",
       "      <td>2.524200e+04</td>\n",
       "      <td>8.300000e+01</td>\n",
       "      <td>9.000000e+00</td>\n",
       "      <td>7.400000e+00</td>\n",
       "      <td>1.710894e+06</td>\n",
       "      <td>1.025990e+05</td>\n",
       "      <td>1.200000e+01</td>\n",
       "      <td>3.000000e+00</td>\n",
       "      <td>1.300000e+01</td>\n",
       "      <td>8.000000e+00</td>\n",
       "      <td>6.000000e+00</td>\n",
       "      <td>1.000000e+00</td>\n",
       "      <td>2.800000e+01</td>\n",
       "      <td>7.829636e+00</td>\n",
       "      <td>7.000000e+00</td>\n",
       "    </tr>\n",
       "    <tr>\n",
       "      <th>75%</th>\n",
       "      <td>3.793300e+04</td>\n",
       "      <td>1.070000e+02</td>\n",
       "      <td>1.600000e+01</td>\n",
       "      <td>1.130000e+01</td>\n",
       "      <td>2.565519e+06</td>\n",
       "      <td>1.543850e+05</td>\n",
       "      <td>2.500000e+01</td>\n",
       "      <td>5.000000e+00</td>\n",
       "      <td>1.600000e+01</td>\n",
       "      <td>1.500000e+01</td>\n",
       "      <td>1.100000e+01</td>\n",
       "      <td>1.000000e+00</td>\n",
       "      <td>4.800000e+01</td>\n",
       "      <td>8.262658e+00</td>\n",
       "      <td>1.300000e+01</td>\n",
       "    </tr>\n",
       "    <tr>\n",
       "      <th>max</th>\n",
       "      <td>4.968800e+04</td>\n",
       "      <td>1.340000e+02</td>\n",
       "      <td>2.100000e+01</td>\n",
       "      <td>2.500000e+01</td>\n",
       "      <td>3.421083e+06</td>\n",
       "      <td>2.062090e+05</td>\n",
       "      <td>9.900000e+01</td>\n",
       "      <td>6.000000e+00</td>\n",
       "      <td>2.300000e+01</td>\n",
       "      <td>3.000000e+01</td>\n",
       "      <td>1.450000e+02</td>\n",
       "      <td>1.000000e+00</td>\n",
       "      <td>9.900000e+01</td>\n",
       "      <td>3.333903e+04</td>\n",
       "      <td>3.000000e+01</td>\n",
       "    </tr>\n",
       "  </tbody>\n",
       "</table>\n",
       "</div>"
      ],
      "text/plain": [
       "         product_id      aisle_id  department_id        prices      order_id  \\\n",
       "count  3.035613e+07  3.035613e+07   3.035613e+07  3.035135e+07  3.035613e+07   \n",
       "mean   2.557567e+04  7.121206e+01   9.924463e+00  7.796148e+00  1.710737e+06   \n",
       "std    1.409400e+04  3.820700e+01   6.281675e+00  4.242736e+00  9.872450e+05   \n",
       "min    1.000000e+00  1.000000e+00   1.000000e+00  1.000000e+00  2.000000e+00   \n",
       "25%    1.352500e+04  3.100000e+01   4.000000e+00  4.200000e+00  8.561395e+05   \n",
       "50%    2.524200e+04  8.300000e+01   9.000000e+00  7.400000e+00  1.710894e+06   \n",
       "75%    3.793300e+04  1.070000e+02   1.600000e+01  1.130000e+01  2.565519e+06   \n",
       "max    4.968800e+04  1.340000e+02   2.100000e+01  2.500000e+01  3.421083e+06   \n",
       "\n",
       "            user_id  order_number     order_dow  order_hour_of_day  \\\n",
       "count  3.035613e+07  3.035613e+07  3.035613e+07       3.035613e+07   \n",
       "mean   1.029341e+05  1.824695e+01  2.740773e+00       1.341127e+01   \n",
       "std    5.946892e+04  1.759155e+01  2.087922e+00       4.246803e+00   \n",
       "min    1.000000e+00  2.000000e+00  0.000000e+00       0.000000e+00   \n",
       "25%    5.140900e+04  6.000000e+00  1.000000e+00       1.000000e+01   \n",
       "50%    1.025990e+05  1.200000e+01  3.000000e+00       1.300000e+01   \n",
       "75%    1.543850e+05  2.500000e+01  5.000000e+00       1.600000e+01   \n",
       "max    2.062090e+05  9.900000e+01  6.000000e+00       2.300000e+01   \n",
       "\n",
       "       days_since_prior_order  add_to_cart_order     reordered     max_order  \\\n",
       "count            3.035613e+07       3.035613e+07  3.035613e+07  3.035613e+07   \n",
       "mean             1.110416e+01       8.354250e+00  6.300570e-01  3.420214e+01   \n",
       "std              8.778943e+00       7.133558e+00  4.827890e-01  2.521052e+01   \n",
       "min              0.000000e+00       1.000000e+00  0.000000e+00  3.000000e+00   \n",
       "25%              5.000000e+00       3.000000e+00  0.000000e+00  1.400000e+01   \n",
       "50%              8.000000e+00       6.000000e+00  1.000000e+00  2.800000e+01   \n",
       "75%              1.500000e+01       1.100000e+01  1.000000e+00  4.800000e+01   \n",
       "max              3.000000e+01       1.450000e+02  1.000000e+00  9.900000e+01   \n",
       "\n",
       "           spending     frequency  \n",
       "count  3.035613e+07  3.035613e+07  \n",
       "mean   1.197817e+01  1.008828e+01  \n",
       "std    8.424331e+01  6.885180e+00  \n",
       "min    1.000000e+00  0.000000e+00  \n",
       "25%    7.390270e+00  6.000000e+00  \n",
       "50%    7.829636e+00  7.000000e+00  \n",
       "75%    8.262658e+00  1.300000e+01  \n",
       "max    3.333903e+04  3.000000e+01  "
      ]
     },
     "execution_count": 32,
     "metadata": {},
     "output_type": "execute_result"
    }
   ],
   "source": [
    "ords_prods_merge.describe()"
   ]
  },
  {
   "cell_type": "code",
   "execution_count": 33,
   "id": "6cc7c926",
   "metadata": {},
   "outputs": [],
   "source": [
    "# Exporting line\n",
    "line.figure.savefig(os.path.join(path, '04 Analysis','Visualizations', 'line_dow_prices.png'))"
   ]
  },
  {
   "cell_type": "code",
   "execution_count": null,
   "id": "8ef99cc6",
   "metadata": {},
   "outputs": [],
   "source": []
  }
 ],
 "metadata": {
  "kernelspec": {
   "display_name": "Python 3",
   "language": "python",
   "name": "python3"
  },
  "language_info": {
   "codemirror_mode": {
    "name": "ipython",
    "version": 3
   },
   "file_extension": ".py",
   "mimetype": "text/x-python",
   "name": "python",
   "nbconvert_exporter": "python",
   "pygments_lexer": "ipython3",
   "version": "3.8.8"
  }
 },
 "nbformat": 4,
 "nbformat_minor": 5
}
