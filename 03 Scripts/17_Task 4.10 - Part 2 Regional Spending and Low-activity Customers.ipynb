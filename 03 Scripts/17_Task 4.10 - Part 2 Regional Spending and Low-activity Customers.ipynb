{
 "cells": [
  {
   "cell_type": "markdown",
   "id": "a7189732",
   "metadata": {},
   "source": [
    "### 01. Importing libraries"
   ]
  },
  {
   "cell_type": "code",
   "execution_count": 1,
   "id": "b6cfb676",
   "metadata": {},
   "outputs": [],
   "source": [
    "import pandas as pd\n",
    "import numpy as np\n",
    "import os\n",
    "import matplotlib.pyplot as plt\n",
    "import seaborn as sns\n",
    "import scipy"
   ]
  },
  {
   "cell_type": "markdown",
   "id": "3dc2f052",
   "metadata": {},
   "source": [
    "### 02. Importing data frame"
   ]
  },
  {
   "cell_type": "code",
   "execution_count": 2,
   "id": "170273a1",
   "metadata": {},
   "outputs": [],
   "source": [
    "ords_prods_cust = pd.read_pickle(r'C:\\Users\\veren\\Python Data\\26-10-2021 Instacart Basket Analysis\\02 Data\\Prepared Data\\ords_prods_cust_region.pkl')"
   ]
  },
  {
   "cell_type": "code",
   "execution_count": 3,
   "id": "db7e433a",
   "metadata": {},
   "outputs": [
    {
     "data": {
      "text/plain": [
       "(30356128, 31)"
      ]
     },
     "execution_count": 3,
     "metadata": {},
     "output_type": "execute_result"
    }
   ],
   "source": [
    "ords_prods_cust.shape"
   ]
  },
  {
   "cell_type": "code",
   "execution_count": 4,
   "id": "71412211",
   "metadata": {},
   "outputs": [
    {
     "data": {
      "text/html": [
       "<div>\n",
       "<style scoped>\n",
       "    .dataframe tbody tr th:only-of-type {\n",
       "        vertical-align: middle;\n",
       "    }\n",
       "\n",
       "    .dataframe tbody tr th {\n",
       "        vertical-align: top;\n",
       "    }\n",
       "\n",
       "    .dataframe thead th {\n",
       "        text-align: right;\n",
       "    }\n",
       "</style>\n",
       "<table border=\"1\" class=\"dataframe\">\n",
       "  <thead>\n",
       "    <tr style=\"text-align: right;\">\n",
       "      <th></th>\n",
       "      <th>product_id</th>\n",
       "      <th>product_name</th>\n",
       "      <th>aisle_id</th>\n",
       "      <th>department_id</th>\n",
       "      <th>prices</th>\n",
       "      <th>order_id</th>\n",
       "      <th>user_id</th>\n",
       "      <th>order_number</th>\n",
       "      <th>order_dow</th>\n",
       "      <th>order_hour_of_day</th>\n",
       "      <th>...</th>\n",
       "      <th>frequency</th>\n",
       "      <th>frequency_flag</th>\n",
       "      <th>gender</th>\n",
       "      <th>state</th>\n",
       "      <th>age</th>\n",
       "      <th>date_joined</th>\n",
       "      <th>n_dependants</th>\n",
       "      <th>family_status</th>\n",
       "      <th>income</th>\n",
       "      <th>region</th>\n",
       "    </tr>\n",
       "  </thead>\n",
       "  <tbody>\n",
       "    <tr>\n",
       "      <th>0</th>\n",
       "      <td>1</td>\n",
       "      <td>Chocolate Sandwich Cookies</td>\n",
       "      <td>61</td>\n",
       "      <td>19</td>\n",
       "      <td>5.8</td>\n",
       "      <td>3139998</td>\n",
       "      <td>138</td>\n",
       "      <td>28</td>\n",
       "      <td>6</td>\n",
       "      <td>11</td>\n",
       "      <td>...</td>\n",
       "      <td>8.0</td>\n",
       "      <td>Frequent customer</td>\n",
       "      <td>Male</td>\n",
       "      <td>Minnesota</td>\n",
       "      <td>81</td>\n",
       "      <td>8/1/2019</td>\n",
       "      <td>1</td>\n",
       "      <td>married</td>\n",
       "      <td>49620</td>\n",
       "      <td>Midwest</td>\n",
       "    </tr>\n",
       "    <tr>\n",
       "      <th>1</th>\n",
       "      <td>1</td>\n",
       "      <td>Chocolate Sandwich Cookies</td>\n",
       "      <td>61</td>\n",
       "      <td>19</td>\n",
       "      <td>5.8</td>\n",
       "      <td>1977647</td>\n",
       "      <td>138</td>\n",
       "      <td>30</td>\n",
       "      <td>6</td>\n",
       "      <td>17</td>\n",
       "      <td>...</td>\n",
       "      <td>8.0</td>\n",
       "      <td>Frequent customer</td>\n",
       "      <td>Male</td>\n",
       "      <td>Minnesota</td>\n",
       "      <td>81</td>\n",
       "      <td>8/1/2019</td>\n",
       "      <td>1</td>\n",
       "      <td>married</td>\n",
       "      <td>49620</td>\n",
       "      <td>Midwest</td>\n",
       "    </tr>\n",
       "    <tr>\n",
       "      <th>2</th>\n",
       "      <td>907</td>\n",
       "      <td>Premium Sliced Bacon</td>\n",
       "      <td>106</td>\n",
       "      <td>12</td>\n",
       "      <td>20.0</td>\n",
       "      <td>2254091</td>\n",
       "      <td>138</td>\n",
       "      <td>10</td>\n",
       "      <td>5</td>\n",
       "      <td>14</td>\n",
       "      <td>...</td>\n",
       "      <td>8.0</td>\n",
       "      <td>Frequent customer</td>\n",
       "      <td>Male</td>\n",
       "      <td>Minnesota</td>\n",
       "      <td>81</td>\n",
       "      <td>8/1/2019</td>\n",
       "      <td>1</td>\n",
       "      <td>married</td>\n",
       "      <td>49620</td>\n",
       "      <td>Midwest</td>\n",
       "    </tr>\n",
       "    <tr>\n",
       "      <th>3</th>\n",
       "      <td>1000</td>\n",
       "      <td>Apricots</td>\n",
       "      <td>18</td>\n",
       "      <td>10</td>\n",
       "      <td>12.9</td>\n",
       "      <td>505689</td>\n",
       "      <td>138</td>\n",
       "      <td>9</td>\n",
       "      <td>6</td>\n",
       "      <td>12</td>\n",
       "      <td>...</td>\n",
       "      <td>8.0</td>\n",
       "      <td>Frequent customer</td>\n",
       "      <td>Male</td>\n",
       "      <td>Minnesota</td>\n",
       "      <td>81</td>\n",
       "      <td>8/1/2019</td>\n",
       "      <td>1</td>\n",
       "      <td>married</td>\n",
       "      <td>49620</td>\n",
       "      <td>Midwest</td>\n",
       "    </tr>\n",
       "    <tr>\n",
       "      <th>4</th>\n",
       "      <td>3265</td>\n",
       "      <td>Mini Seedless Watermelon Pack</td>\n",
       "      <td>32</td>\n",
       "      <td>4</td>\n",
       "      <td>1.7</td>\n",
       "      <td>960220</td>\n",
       "      <td>138</td>\n",
       "      <td>17</td>\n",
       "      <td>5</td>\n",
       "      <td>14</td>\n",
       "      <td>...</td>\n",
       "      <td>8.0</td>\n",
       "      <td>Frequent customer</td>\n",
       "      <td>Male</td>\n",
       "      <td>Minnesota</td>\n",
       "      <td>81</td>\n",
       "      <td>8/1/2019</td>\n",
       "      <td>1</td>\n",
       "      <td>married</td>\n",
       "      <td>49620</td>\n",
       "      <td>Midwest</td>\n",
       "    </tr>\n",
       "  </tbody>\n",
       "</table>\n",
       "<p>5 rows × 31 columns</p>\n",
       "</div>"
      ],
      "text/plain": [
       "   product_id                   product_name  aisle_id  department_id  prices  \\\n",
       "0           1     Chocolate Sandwich Cookies        61             19     5.8   \n",
       "1           1     Chocolate Sandwich Cookies        61             19     5.8   \n",
       "2         907           Premium Sliced Bacon       106             12    20.0   \n",
       "3        1000                       Apricots        18             10    12.9   \n",
       "4        3265  Mini Seedless Watermelon Pack        32              4     1.7   \n",
       "\n",
       "   order_id  user_id  order_number  order_dow  order_hour_of_day  ...  \\\n",
       "0   3139998      138            28          6                 11  ...   \n",
       "1   1977647      138            30          6                 17  ...   \n",
       "2   2254091      138            10          5                 14  ...   \n",
       "3    505689      138             9          6                 12  ...   \n",
       "4    960220      138            17          5                 14  ...   \n",
       "\n",
       "   frequency     frequency_flag  gender      state age date_joined  \\\n",
       "0        8.0  Frequent customer    Male  Minnesota  81    8/1/2019   \n",
       "1        8.0  Frequent customer    Male  Minnesota  81    8/1/2019   \n",
       "2        8.0  Frequent customer    Male  Minnesota  81    8/1/2019   \n",
       "3        8.0  Frequent customer    Male  Minnesota  81    8/1/2019   \n",
       "4        8.0  Frequent customer    Male  Minnesota  81    8/1/2019   \n",
       "\n",
       "  n_dependants  family_status income   region  \n",
       "0            1        married  49620  Midwest  \n",
       "1            1        married  49620  Midwest  \n",
       "2            1        married  49620  Midwest  \n",
       "3            1        married  49620  Midwest  \n",
       "4            1        married  49620  Midwest  \n",
       "\n",
       "[5 rows x 31 columns]"
      ]
     },
     "execution_count": 4,
     "metadata": {},
     "output_type": "execute_result"
    }
   ],
   "source": [
    "ords_prods_cust.head()"
   ]
  },
  {
   "cell_type": "code",
   "execution_count": 5,
   "id": "7db188ca",
   "metadata": {},
   "outputs": [
    {
     "data": {
      "text/plain": [
       "Index(['product_id', 'product_name', 'aisle_id', 'department_id', 'prices',\n",
       "       'order_id', 'user_id', 'order_number', 'order_dow', 'order_hour_of_day',\n",
       "       'days_since_prior_order', 'add_to_cart_order', 'reordered',\n",
       "       'price_range_loc', 'busiest_day', 'busiest_days',\n",
       "       'busiest_period_of_day', 'max_order', 'loyalty_flag', 'spending',\n",
       "       'spending_flag', 'frequency', 'frequency_flag', 'gender', 'state',\n",
       "       'age', 'date_joined', 'n_dependants', 'family_status', 'income',\n",
       "       'region'],\n",
       "      dtype='object')"
      ]
     },
     "execution_count": 5,
     "metadata": {},
     "output_type": "execute_result"
    }
   ],
   "source": [
    "ords_prods_cust.columns"
   ]
  },
  {
   "cell_type": "markdown",
   "id": "e8c7a436",
   "metadata": {},
   "source": [
    "### 03. Comparing regional spending"
   ]
  },
  {
   "cell_type": "code",
   "execution_count": 6,
   "id": "70f3e51a",
   "metadata": {},
   "outputs": [],
   "source": [
    "# Crossing the region variable with the spending_flag\n",
    "crosstab = pd.crosstab(ords_prods_cust['region'], ords_prods_cust['spending_flag'], dropna = False)"
   ]
  },
  {
   "cell_type": "code",
   "execution_count": 7,
   "id": "47384a8c",
   "metadata": {},
   "outputs": [
    {
     "data": {
      "text/html": [
       "<div>\n",
       "<style scoped>\n",
       "    .dataframe tbody tr th:only-of-type {\n",
       "        vertical-align: middle;\n",
       "    }\n",
       "\n",
       "    .dataframe tbody tr th {\n",
       "        vertical-align: top;\n",
       "    }\n",
       "\n",
       "    .dataframe thead th {\n",
       "        text-align: right;\n",
       "    }\n",
       "</style>\n",
       "<table border=\"1\" class=\"dataframe\">\n",
       "  <thead>\n",
       "    <tr style=\"text-align: right;\">\n",
       "      <th>spending_flag</th>\n",
       "      <th>High Spender</th>\n",
       "      <th>Low Spender</th>\n",
       "    </tr>\n",
       "    <tr>\n",
       "      <th>region</th>\n",
       "      <th></th>\n",
       "      <th></th>\n",
       "    </tr>\n",
       "  </thead>\n",
       "  <tbody>\n",
       "    <tr>\n",
       "      <th>Midwest</th>\n",
       "      <td>148545</td>\n",
       "      <td>6965077</td>\n",
       "    </tr>\n",
       "    <tr>\n",
       "      <th>Northeast</th>\n",
       "      <td>103091</td>\n",
       "      <td>5258410</td>\n",
       "    </tr>\n",
       "    <tr>\n",
       "      <th>South</th>\n",
       "      <td>197563</td>\n",
       "      <td>9911312</td>\n",
       "    </tr>\n",
       "    <tr>\n",
       "      <th>West</th>\n",
       "      <td>150117</td>\n",
       "      <td>7622013</td>\n",
       "    </tr>\n",
       "  </tbody>\n",
       "</table>\n",
       "</div>"
      ],
      "text/plain": [
       "spending_flag  High Spender  Low Spender\n",
       "region                                  \n",
       "Midwest              148545      6965077\n",
       "Northeast            103091      5258410\n",
       "South                197563      9911312\n",
       "West                 150117      7622013"
      ]
     },
     "execution_count": 7,
     "metadata": {},
     "output_type": "execute_result"
    }
   ],
   "source": [
    "crosstab"
   ]
  },
  {
   "cell_type": "markdown",
   "id": "89781f71",
   "metadata": {},
   "source": [
    "The South region has the most high spenders, followed by the West, the Midwest, and the Northeast. But, the South also has the most low spenders, followed by the West, the Midwest, and the Northeast. Overall, these numbers seem to be correlated to the population counts in these regions because the most populated region is the South, followed by the West, the Midwest, and the Northeast."
   ]
  },
  {
   "cell_type": "code",
   "execution_count": 8,
   "id": "06c6c17a",
   "metadata": {},
   "outputs": [
    {
     "data": {
      "text/plain": [
       "<bound method NDFrame.to_clipboard of spending_flag  High Spender  Low Spender\n",
       "region                                  \n",
       "Midwest              148545      6965077\n",
       "Northeast            103091      5258410\n",
       "South                197563      9911312\n",
       "West                 150117      7622013>"
      ]
     },
     "execution_count": 8,
     "metadata": {},
     "output_type": "execute_result"
    }
   ],
   "source": [
    "crosstab.to_clipboard"
   ]
  },
  {
   "cell_type": "markdown",
   "id": "5f2db941",
   "metadata": {},
   "source": [
    "### 04. Creating an exclusion flag for low-activity customers"
   ]
  },
  {
   "cell_type": "code",
   "execution_count": 9,
   "id": "a57ab9b7",
   "metadata": {},
   "outputs": [],
   "source": [
    "# Creating a flag for low-activity customers (who have less than 5 orders)\n",
    "ords_prods_cust.loc[ords_prods_cust['max_order'] < 5, 'exclusion_flag'] = 'Low-activity Customer'"
   ]
  },
  {
   "cell_type": "code",
   "execution_count": 10,
   "id": "83bd8187",
   "metadata": {},
   "outputs": [],
   "source": [
    "# Creating a flag for customers with a higher activity (who have 5 or more orders). I call them non_low_activity customer.\n",
    "ords_prods_cust.loc[ords_prods_cust['max_order'] >= 5, 'exclusion_flag'] = 'Non-low-activity Customer'"
   ]
  },
  {
   "cell_type": "code",
   "execution_count": 11,
   "id": "c7962b54",
   "metadata": {},
   "outputs": [
    {
     "data": {
      "text/html": [
       "<div>\n",
       "<style scoped>\n",
       "    .dataframe tbody tr th:only-of-type {\n",
       "        vertical-align: middle;\n",
       "    }\n",
       "\n",
       "    .dataframe tbody tr th {\n",
       "        vertical-align: top;\n",
       "    }\n",
       "\n",
       "    .dataframe thead th {\n",
       "        text-align: right;\n",
       "    }\n",
       "</style>\n",
       "<table border=\"1\" class=\"dataframe\">\n",
       "  <thead>\n",
       "    <tr style=\"text-align: right;\">\n",
       "      <th></th>\n",
       "      <th>max_order</th>\n",
       "      <th>exclusion_flag</th>\n",
       "    </tr>\n",
       "  </thead>\n",
       "  <tbody>\n",
       "    <tr>\n",
       "      <th>0</th>\n",
       "      <td>32</td>\n",
       "      <td>Non-low-activity Customer</td>\n",
       "    </tr>\n",
       "    <tr>\n",
       "      <th>1</th>\n",
       "      <td>32</td>\n",
       "      <td>Non-low-activity Customer</td>\n",
       "    </tr>\n",
       "    <tr>\n",
       "      <th>2</th>\n",
       "      <td>32</td>\n",
       "      <td>Non-low-activity Customer</td>\n",
       "    </tr>\n",
       "    <tr>\n",
       "      <th>3</th>\n",
       "      <td>32</td>\n",
       "      <td>Non-low-activity Customer</td>\n",
       "    </tr>\n",
       "    <tr>\n",
       "      <th>4</th>\n",
       "      <td>32</td>\n",
       "      <td>Non-low-activity Customer</td>\n",
       "    </tr>\n",
       "    <tr>\n",
       "      <th>5</th>\n",
       "      <td>32</td>\n",
       "      <td>Non-low-activity Customer</td>\n",
       "    </tr>\n",
       "    <tr>\n",
       "      <th>6</th>\n",
       "      <td>32</td>\n",
       "      <td>Non-low-activity Customer</td>\n",
       "    </tr>\n",
       "    <tr>\n",
       "      <th>7</th>\n",
       "      <td>32</td>\n",
       "      <td>Non-low-activity Customer</td>\n",
       "    </tr>\n",
       "    <tr>\n",
       "      <th>8</th>\n",
       "      <td>32</td>\n",
       "      <td>Non-low-activity Customer</td>\n",
       "    </tr>\n",
       "    <tr>\n",
       "      <th>9</th>\n",
       "      <td>32</td>\n",
       "      <td>Non-low-activity Customer</td>\n",
       "    </tr>\n",
       "  </tbody>\n",
       "</table>\n",
       "</div>"
      ],
      "text/plain": [
       "   max_order             exclusion_flag\n",
       "0         32  Non-low-activity Customer\n",
       "1         32  Non-low-activity Customer\n",
       "2         32  Non-low-activity Customer\n",
       "3         32  Non-low-activity Customer\n",
       "4         32  Non-low-activity Customer\n",
       "5         32  Non-low-activity Customer\n",
       "6         32  Non-low-activity Customer\n",
       "7         32  Non-low-activity Customer\n",
       "8         32  Non-low-activity Customer\n",
       "9         32  Non-low-activity Customer"
      ]
     },
     "execution_count": 11,
     "metadata": {},
     "output_type": "execute_result"
    }
   ],
   "source": [
    "# Checking the creation of the flag with the head()-function\n",
    "ords_prods_cust[['max_order', 'exclusion_flag']].head(10)"
   ]
  },
  {
   "cell_type": "code",
   "execution_count": 12,
   "id": "ba572982",
   "metadata": {},
   "outputs": [
    {
     "data": {
      "text/plain": [
       "Non-low-activity Customer    29329778\n",
       "Low-activity Customer         1026350\n",
       "Name: exclusion_flag, dtype: int64"
      ]
     },
     "execution_count": 12,
     "metadata": {},
     "output_type": "execute_result"
    }
   ],
   "source": [
    "ords_prods_cust['exclusion_flag'].value_counts(dropna = False)"
   ]
  },
  {
   "cell_type": "markdown",
   "id": "618edbba",
   "metadata": {},
   "source": [
    "### 05. Creating a dataframe for low-activity customers and non-low-activity customers"
   ]
  },
  {
   "cell_type": "code",
   "execution_count": 13,
   "id": "747b23c7",
   "metadata": {},
   "outputs": [],
   "source": [
    "# Creating a new dataframe only showing data for low-activity customers\n",
    "df_low_cust = ords_prods_cust[ords_prods_cust['exclusion_flag'] == 'Low-activity Customer']"
   ]
  },
  {
   "cell_type": "code",
   "execution_count": 14,
   "id": "71cfb0f7",
   "metadata": {},
   "outputs": [
    {
     "data": {
      "text/html": [
       "<div>\n",
       "<style scoped>\n",
       "    .dataframe tbody tr th:only-of-type {\n",
       "        vertical-align: middle;\n",
       "    }\n",
       "\n",
       "    .dataframe tbody tr th {\n",
       "        vertical-align: top;\n",
       "    }\n",
       "\n",
       "    .dataframe thead th {\n",
       "        text-align: right;\n",
       "    }\n",
       "</style>\n",
       "<table border=\"1\" class=\"dataframe\">\n",
       "  <thead>\n",
       "    <tr style=\"text-align: right;\">\n",
       "      <th></th>\n",
       "      <th>product_id</th>\n",
       "      <th>product_name</th>\n",
       "      <th>aisle_id</th>\n",
       "      <th>department_id</th>\n",
       "      <th>prices</th>\n",
       "      <th>order_id</th>\n",
       "      <th>user_id</th>\n",
       "      <th>order_number</th>\n",
       "      <th>order_dow</th>\n",
       "      <th>order_hour_of_day</th>\n",
       "      <th>...</th>\n",
       "      <th>frequency_flag</th>\n",
       "      <th>gender</th>\n",
       "      <th>state</th>\n",
       "      <th>age</th>\n",
       "      <th>date_joined</th>\n",
       "      <th>n_dependants</th>\n",
       "      <th>family_status</th>\n",
       "      <th>income</th>\n",
       "      <th>region</th>\n",
       "      <th>exclusion_flag</th>\n",
       "    </tr>\n",
       "  </thead>\n",
       "  <tbody>\n",
       "    <tr>\n",
       "      <th>295</th>\n",
       "      <td>1</td>\n",
       "      <td>Chocolate Sandwich Cookies</td>\n",
       "      <td>61</td>\n",
       "      <td>19</td>\n",
       "      <td>5.8</td>\n",
       "      <td>1813452</td>\n",
       "      <td>764</td>\n",
       "      <td>3</td>\n",
       "      <td>4</td>\n",
       "      <td>17</td>\n",
       "      <td>...</td>\n",
       "      <td>Frequent customer</td>\n",
       "      <td>Female</td>\n",
       "      <td>Wisconsin</td>\n",
       "      <td>40</td>\n",
       "      <td>2/9/2020</td>\n",
       "      <td>3</td>\n",
       "      <td>married</td>\n",
       "      <td>31308</td>\n",
       "      <td>Midwest</td>\n",
       "      <td>Low-activity Customer</td>\n",
       "    </tr>\n",
       "    <tr>\n",
       "      <th>296</th>\n",
       "      <td>3260</td>\n",
       "      <td>Chips Ahoy!/Nutter Butter/Oreo Cookies</td>\n",
       "      <td>61</td>\n",
       "      <td>19</td>\n",
       "      <td>1.7</td>\n",
       "      <td>705212</td>\n",
       "      <td>764</td>\n",
       "      <td>2</td>\n",
       "      <td>2</td>\n",
       "      <td>10</td>\n",
       "      <td>...</td>\n",
       "      <td>Frequent customer</td>\n",
       "      <td>Female</td>\n",
       "      <td>Wisconsin</td>\n",
       "      <td>40</td>\n",
       "      <td>2/9/2020</td>\n",
       "      <td>3</td>\n",
       "      <td>married</td>\n",
       "      <td>31308</td>\n",
       "      <td>Midwest</td>\n",
       "      <td>Low-activity Customer</td>\n",
       "    </tr>\n",
       "    <tr>\n",
       "      <th>297</th>\n",
       "      <td>3260</td>\n",
       "      <td>Chips Ahoy!/Nutter Butter/Oreo Cookies</td>\n",
       "      <td>61</td>\n",
       "      <td>19</td>\n",
       "      <td>1.7</td>\n",
       "      <td>1813452</td>\n",
       "      <td>764</td>\n",
       "      <td>3</td>\n",
       "      <td>4</td>\n",
       "      <td>17</td>\n",
       "      <td>...</td>\n",
       "      <td>Frequent customer</td>\n",
       "      <td>Female</td>\n",
       "      <td>Wisconsin</td>\n",
       "      <td>40</td>\n",
       "      <td>2/9/2020</td>\n",
       "      <td>3</td>\n",
       "      <td>married</td>\n",
       "      <td>31308</td>\n",
       "      <td>Midwest</td>\n",
       "      <td>Low-activity Customer</td>\n",
       "    </tr>\n",
       "    <tr>\n",
       "      <th>298</th>\n",
       "      <td>4047</td>\n",
       "      <td>Milano</td>\n",
       "      <td>61</td>\n",
       "      <td>19</td>\n",
       "      <td>4.4</td>\n",
       "      <td>705212</td>\n",
       "      <td>764</td>\n",
       "      <td>2</td>\n",
       "      <td>2</td>\n",
       "      <td>10</td>\n",
       "      <td>...</td>\n",
       "      <td>Frequent customer</td>\n",
       "      <td>Female</td>\n",
       "      <td>Wisconsin</td>\n",
       "      <td>40</td>\n",
       "      <td>2/9/2020</td>\n",
       "      <td>3</td>\n",
       "      <td>married</td>\n",
       "      <td>31308</td>\n",
       "      <td>Midwest</td>\n",
       "      <td>Low-activity Customer</td>\n",
       "    </tr>\n",
       "    <tr>\n",
       "      <th>299</th>\n",
       "      <td>4377</td>\n",
       "      <td>Bag of Oranges</td>\n",
       "      <td>24</td>\n",
       "      <td>4</td>\n",
       "      <td>10.9</td>\n",
       "      <td>1813452</td>\n",
       "      <td>764</td>\n",
       "      <td>3</td>\n",
       "      <td>4</td>\n",
       "      <td>17</td>\n",
       "      <td>...</td>\n",
       "      <td>Frequent customer</td>\n",
       "      <td>Female</td>\n",
       "      <td>Wisconsin</td>\n",
       "      <td>40</td>\n",
       "      <td>2/9/2020</td>\n",
       "      <td>3</td>\n",
       "      <td>married</td>\n",
       "      <td>31308</td>\n",
       "      <td>Midwest</td>\n",
       "      <td>Low-activity Customer</td>\n",
       "    </tr>\n",
       "  </tbody>\n",
       "</table>\n",
       "<p>5 rows × 32 columns</p>\n",
       "</div>"
      ],
      "text/plain": [
       "     product_id                            product_name  aisle_id  \\\n",
       "295           1              Chocolate Sandwich Cookies        61   \n",
       "296        3260  Chips Ahoy!/Nutter Butter/Oreo Cookies        61   \n",
       "297        3260  Chips Ahoy!/Nutter Butter/Oreo Cookies        61   \n",
       "298        4047                                  Milano        61   \n",
       "299        4377                          Bag of Oranges        24   \n",
       "\n",
       "     department_id  prices  order_id  user_id  order_number  order_dow  \\\n",
       "295             19     5.8   1813452      764             3          4   \n",
       "296             19     1.7    705212      764             2          2   \n",
       "297             19     1.7   1813452      764             3          4   \n",
       "298             19     4.4    705212      764             2          2   \n",
       "299              4    10.9   1813452      764             3          4   \n",
       "\n",
       "     order_hour_of_day  ...     frequency_flag  gender      state age  \\\n",
       "295                 17  ...  Frequent customer  Female  Wisconsin  40   \n",
       "296                 10  ...  Frequent customer  Female  Wisconsin  40   \n",
       "297                 17  ...  Frequent customer  Female  Wisconsin  40   \n",
       "298                 10  ...  Frequent customer  Female  Wisconsin  40   \n",
       "299                 17  ...  Frequent customer  Female  Wisconsin  40   \n",
       "\n",
       "    date_joined n_dependants family_status  income   region  \\\n",
       "295    2/9/2020            3       married   31308  Midwest   \n",
       "296    2/9/2020            3       married   31308  Midwest   \n",
       "297    2/9/2020            3       married   31308  Midwest   \n",
       "298    2/9/2020            3       married   31308  Midwest   \n",
       "299    2/9/2020            3       married   31308  Midwest   \n",
       "\n",
       "            exclusion_flag  \n",
       "295  Low-activity Customer  \n",
       "296  Low-activity Customer  \n",
       "297  Low-activity Customer  \n",
       "298  Low-activity Customer  \n",
       "299  Low-activity Customer  \n",
       "\n",
       "[5 rows x 32 columns]"
      ]
     },
     "execution_count": 14,
     "metadata": {},
     "output_type": "execute_result"
    }
   ],
   "source": [
    "df_low_cust.head()"
   ]
  },
  {
   "cell_type": "code",
   "execution_count": 15,
   "id": "0630d106",
   "metadata": {},
   "outputs": [
    {
     "data": {
      "text/plain": [
       "(1026350, 32)"
      ]
     },
     "execution_count": 15,
     "metadata": {},
     "output_type": "execute_result"
    }
   ],
   "source": [
    "df_low_cust.shape"
   ]
  },
  {
   "cell_type": "code",
   "execution_count": 16,
   "id": "3e943b2e",
   "metadata": {},
   "outputs": [],
   "source": [
    "# Creating a new dataframe only showing data for non-low-activity customers\n",
    "df_normal_cust = ords_prods_cust[ords_prods_cust['exclusion_flag'] == 'Non-low-activity Customer']"
   ]
  },
  {
   "cell_type": "code",
   "execution_count": 17,
   "id": "7a3ed004",
   "metadata": {},
   "outputs": [
    {
     "data": {
      "text/html": [
       "<div>\n",
       "<style scoped>\n",
       "    .dataframe tbody tr th:only-of-type {\n",
       "        vertical-align: middle;\n",
       "    }\n",
       "\n",
       "    .dataframe tbody tr th {\n",
       "        vertical-align: top;\n",
       "    }\n",
       "\n",
       "    .dataframe thead th {\n",
       "        text-align: right;\n",
       "    }\n",
       "</style>\n",
       "<table border=\"1\" class=\"dataframe\">\n",
       "  <thead>\n",
       "    <tr style=\"text-align: right;\">\n",
       "      <th></th>\n",
       "      <th>product_id</th>\n",
       "      <th>product_name</th>\n",
       "      <th>aisle_id</th>\n",
       "      <th>department_id</th>\n",
       "      <th>prices</th>\n",
       "      <th>order_id</th>\n",
       "      <th>user_id</th>\n",
       "      <th>order_number</th>\n",
       "      <th>order_dow</th>\n",
       "      <th>order_hour_of_day</th>\n",
       "      <th>...</th>\n",
       "      <th>frequency_flag</th>\n",
       "      <th>gender</th>\n",
       "      <th>state</th>\n",
       "      <th>age</th>\n",
       "      <th>date_joined</th>\n",
       "      <th>n_dependants</th>\n",
       "      <th>family_status</th>\n",
       "      <th>income</th>\n",
       "      <th>region</th>\n",
       "      <th>exclusion_flag</th>\n",
       "    </tr>\n",
       "  </thead>\n",
       "  <tbody>\n",
       "    <tr>\n",
       "      <th>0</th>\n",
       "      <td>1</td>\n",
       "      <td>Chocolate Sandwich Cookies</td>\n",
       "      <td>61</td>\n",
       "      <td>19</td>\n",
       "      <td>5.8</td>\n",
       "      <td>3139998</td>\n",
       "      <td>138</td>\n",
       "      <td>28</td>\n",
       "      <td>6</td>\n",
       "      <td>11</td>\n",
       "      <td>...</td>\n",
       "      <td>Frequent customer</td>\n",
       "      <td>Male</td>\n",
       "      <td>Minnesota</td>\n",
       "      <td>81</td>\n",
       "      <td>8/1/2019</td>\n",
       "      <td>1</td>\n",
       "      <td>married</td>\n",
       "      <td>49620</td>\n",
       "      <td>Midwest</td>\n",
       "      <td>Non-low-activity Customer</td>\n",
       "    </tr>\n",
       "    <tr>\n",
       "      <th>1</th>\n",
       "      <td>1</td>\n",
       "      <td>Chocolate Sandwich Cookies</td>\n",
       "      <td>61</td>\n",
       "      <td>19</td>\n",
       "      <td>5.8</td>\n",
       "      <td>1977647</td>\n",
       "      <td>138</td>\n",
       "      <td>30</td>\n",
       "      <td>6</td>\n",
       "      <td>17</td>\n",
       "      <td>...</td>\n",
       "      <td>Frequent customer</td>\n",
       "      <td>Male</td>\n",
       "      <td>Minnesota</td>\n",
       "      <td>81</td>\n",
       "      <td>8/1/2019</td>\n",
       "      <td>1</td>\n",
       "      <td>married</td>\n",
       "      <td>49620</td>\n",
       "      <td>Midwest</td>\n",
       "      <td>Non-low-activity Customer</td>\n",
       "    </tr>\n",
       "    <tr>\n",
       "      <th>2</th>\n",
       "      <td>907</td>\n",
       "      <td>Premium Sliced Bacon</td>\n",
       "      <td>106</td>\n",
       "      <td>12</td>\n",
       "      <td>20.0</td>\n",
       "      <td>2254091</td>\n",
       "      <td>138</td>\n",
       "      <td>10</td>\n",
       "      <td>5</td>\n",
       "      <td>14</td>\n",
       "      <td>...</td>\n",
       "      <td>Frequent customer</td>\n",
       "      <td>Male</td>\n",
       "      <td>Minnesota</td>\n",
       "      <td>81</td>\n",
       "      <td>8/1/2019</td>\n",
       "      <td>1</td>\n",
       "      <td>married</td>\n",
       "      <td>49620</td>\n",
       "      <td>Midwest</td>\n",
       "      <td>Non-low-activity Customer</td>\n",
       "    </tr>\n",
       "    <tr>\n",
       "      <th>3</th>\n",
       "      <td>1000</td>\n",
       "      <td>Apricots</td>\n",
       "      <td>18</td>\n",
       "      <td>10</td>\n",
       "      <td>12.9</td>\n",
       "      <td>505689</td>\n",
       "      <td>138</td>\n",
       "      <td>9</td>\n",
       "      <td>6</td>\n",
       "      <td>12</td>\n",
       "      <td>...</td>\n",
       "      <td>Frequent customer</td>\n",
       "      <td>Male</td>\n",
       "      <td>Minnesota</td>\n",
       "      <td>81</td>\n",
       "      <td>8/1/2019</td>\n",
       "      <td>1</td>\n",
       "      <td>married</td>\n",
       "      <td>49620</td>\n",
       "      <td>Midwest</td>\n",
       "      <td>Non-low-activity Customer</td>\n",
       "    </tr>\n",
       "    <tr>\n",
       "      <th>4</th>\n",
       "      <td>3265</td>\n",
       "      <td>Mini Seedless Watermelon Pack</td>\n",
       "      <td>32</td>\n",
       "      <td>4</td>\n",
       "      <td>1.7</td>\n",
       "      <td>960220</td>\n",
       "      <td>138</td>\n",
       "      <td>17</td>\n",
       "      <td>5</td>\n",
       "      <td>14</td>\n",
       "      <td>...</td>\n",
       "      <td>Frequent customer</td>\n",
       "      <td>Male</td>\n",
       "      <td>Minnesota</td>\n",
       "      <td>81</td>\n",
       "      <td>8/1/2019</td>\n",
       "      <td>1</td>\n",
       "      <td>married</td>\n",
       "      <td>49620</td>\n",
       "      <td>Midwest</td>\n",
       "      <td>Non-low-activity Customer</td>\n",
       "    </tr>\n",
       "  </tbody>\n",
       "</table>\n",
       "<p>5 rows × 32 columns</p>\n",
       "</div>"
      ],
      "text/plain": [
       "   product_id                   product_name  aisle_id  department_id  prices  \\\n",
       "0           1     Chocolate Sandwich Cookies        61             19     5.8   \n",
       "1           1     Chocolate Sandwich Cookies        61             19     5.8   \n",
       "2         907           Premium Sliced Bacon       106             12    20.0   \n",
       "3        1000                       Apricots        18             10    12.9   \n",
       "4        3265  Mini Seedless Watermelon Pack        32              4     1.7   \n",
       "\n",
       "   order_id  user_id  order_number  order_dow  order_hour_of_day  ...  \\\n",
       "0   3139998      138            28          6                 11  ...   \n",
       "1   1977647      138            30          6                 17  ...   \n",
       "2   2254091      138            10          5                 14  ...   \n",
       "3    505689      138             9          6                 12  ...   \n",
       "4    960220      138            17          5                 14  ...   \n",
       "\n",
       "      frequency_flag  gender      state age date_joined n_dependants  \\\n",
       "0  Frequent customer    Male  Minnesota  81    8/1/2019            1   \n",
       "1  Frequent customer    Male  Minnesota  81    8/1/2019            1   \n",
       "2  Frequent customer    Male  Minnesota  81    8/1/2019            1   \n",
       "3  Frequent customer    Male  Minnesota  81    8/1/2019            1   \n",
       "4  Frequent customer    Male  Minnesota  81    8/1/2019            1   \n",
       "\n",
       "  family_status  income   region             exclusion_flag  \n",
       "0       married   49620  Midwest  Non-low-activity Customer  \n",
       "1       married   49620  Midwest  Non-low-activity Customer  \n",
       "2       married   49620  Midwest  Non-low-activity Customer  \n",
       "3       married   49620  Midwest  Non-low-activity Customer  \n",
       "4       married   49620  Midwest  Non-low-activity Customer  \n",
       "\n",
       "[5 rows x 32 columns]"
      ]
     },
     "execution_count": 17,
     "metadata": {},
     "output_type": "execute_result"
    }
   ],
   "source": [
    "df_normal_cust.head()"
   ]
  },
  {
   "cell_type": "code",
   "execution_count": 18,
   "id": "9c8b51b9",
   "metadata": {},
   "outputs": [
    {
     "data": {
      "text/plain": [
       "(29329778, 32)"
      ]
     },
     "execution_count": 18,
     "metadata": {},
     "output_type": "execute_result"
    }
   ],
   "source": [
    "df_normal_cust.shape"
   ]
  },
  {
   "cell_type": "code",
   "execution_count": 19,
   "id": "896ae0e6",
   "metadata": {},
   "outputs": [
    {
     "data": {
      "text/plain": [
       "30356128"
      ]
     },
     "execution_count": 19,
     "metadata": {},
     "output_type": "execute_result"
    }
   ],
   "source": [
    "# Checking if df_normal_cust and df_low_cust together have the same number of rows than ords_prods_cust\n",
    "29329778 + 1026350"
   ]
  },
  {
   "cell_type": "markdown",
   "id": "e8bf6ab5",
   "metadata": {},
   "source": [
    "Success!"
   ]
  },
  {
   "cell_type": "markdown",
   "id": "e157f6eb",
   "metadata": {},
   "source": [
    "### 06. Exporting dataframes"
   ]
  },
  {
   "cell_type": "code",
   "execution_count": 20,
   "id": "6c24305f",
   "metadata": {},
   "outputs": [],
   "source": [
    "path = r'C:\\Users\\veren\\Python Data\\26-10-2021 Instacart Basket Analysis'"
   ]
  },
  {
   "cell_type": "code",
   "execution_count": 21,
   "id": "68aa4c13",
   "metadata": {},
   "outputs": [
    {
     "data": {
      "text/plain": [
       "'C:\\\\Users\\\\veren\\\\Python Data\\\\26-10-2021 Instacart Basket Analysis'"
      ]
     },
     "execution_count": 21,
     "metadata": {},
     "output_type": "execute_result"
    }
   ],
   "source": [
    "path"
   ]
  },
  {
   "cell_type": "code",
   "execution_count": 22,
   "id": "932bc5b3",
   "metadata": {},
   "outputs": [],
   "source": [
    "# Exporting df_normal_cust\n",
    "df_normal_cust.to_pickle(os.path.join(path, '02 Data', 'Prepared Data', 'normal_customers.pkl'))"
   ]
  },
  {
   "cell_type": "code",
   "execution_count": 24,
   "id": "9aa19ecf",
   "metadata": {},
   "outputs": [],
   "source": [
    "# Exporting ords_prods_cust\n",
    "ords_prods_cust.to_pickle(os.path.join(path, '02 Data', 'Prepared Data', 'final_ords_prods_cust_whole.pkl'))"
   ]
  },
  {
   "cell_type": "code",
   "execution_count": null,
   "id": "af2dfd01",
   "metadata": {},
   "outputs": [],
   "source": []
  }
 ],
 "metadata": {
  "kernelspec": {
   "display_name": "Python 3",
   "language": "python",
   "name": "python3"
  },
  "language_info": {
   "codemirror_mode": {
    "name": "ipython",
    "version": 3
   },
   "file_extension": ".py",
   "mimetype": "text/x-python",
   "name": "python",
   "nbconvert_exporter": "python",
   "pygments_lexer": "ipython3",
   "version": "3.8.8"
  }
 },
 "nbformat": 4,
 "nbformat_minor": 5
}
