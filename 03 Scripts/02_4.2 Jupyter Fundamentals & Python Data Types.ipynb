{
 "cells": [
  {
   "cell_type": "markdown",
   "id": "2bb62f14",
   "metadata": {},
   "source": [
    "## 01. Importing pandas and NumPy"
   ]
  },
  {
   "cell_type": "code",
   "execution_count": 1,
   "id": "12cd16af",
   "metadata": {},
   "outputs": [],
   "source": [
    "# Import libraries\n",
    "import pandas as pd\n",
    "import numpy as np\n",
    "import os"
   ]
  },
  {
   "cell_type": "markdown",
   "id": "c7f992cd",
   "metadata": {},
   "source": [
    "## 02. Working with Python data types"
   ]
  },
  {
   "cell_type": "code",
   "execution_count": 3,
   "id": "35cceb7d",
   "metadata": {},
   "outputs": [],
   "source": [
    "# Code 3 different ways of reaching a result of 100 by adding or substracting numeric values\n",
    "# Number 1\n",
    "x = 50"
   ]
  },
  {
   "cell_type": "code",
   "execution_count": 4,
   "id": "ba6e90a7",
   "metadata": {},
   "outputs": [],
   "source": [
    "y = 51"
   ]
  },
  {
   "cell_type": "code",
   "execution_count": 5,
   "id": "434caad3",
   "metadata": {},
   "outputs": [
    {
     "data": {
      "text/plain": [
       "100"
      ]
     },
     "execution_count": 5,
     "metadata": {},
     "output_type": "execute_result"
    }
   ],
   "source": [
    "x + y -1"
   ]
  },
  {
   "cell_type": "code",
   "execution_count": 6,
   "id": "8d715a50",
   "metadata": {},
   "outputs": [
    {
     "data": {
      "text/plain": [
       "100"
      ]
     },
     "execution_count": 6,
     "metadata": {},
     "output_type": "execute_result"
    }
   ],
   "source": [
    "# Number 2\n",
    "150 - x"
   ]
  },
  {
   "cell_type": "code",
   "execution_count": 7,
   "id": "9d07508b",
   "metadata": {},
   "outputs": [],
   "source": [
    "# Number 3\n",
    "x = 110"
   ]
  },
  {
   "cell_type": "code",
   "execution_count": 8,
   "id": "093126c7",
   "metadata": {},
   "outputs": [
    {
     "data": {
      "text/plain": [
       "100"
      ]
     },
     "execution_count": 8,
     "metadata": {},
     "output_type": "execute_result"
    }
   ],
   "source": [
    "x - 10"
   ]
  },
  {
   "cell_type": "code",
   "execution_count": 9,
   "id": "37efe916",
   "metadata": {},
   "outputs": [],
   "source": [
    "# Code 2 floating-point variables and divide them by each other\n",
    "x = 4.354\n",
    "y = 2.15"
   ]
  },
  {
   "cell_type": "code",
   "execution_count": 10,
   "id": "4e5e2a9c",
   "metadata": {},
   "outputs": [
    {
     "data": {
      "text/plain": [
       "2.0251162790697674"
      ]
     },
     "execution_count": 10,
     "metadata": {},
     "output_type": "execute_result"
    }
   ],
   "source": [
    "x / y"
   ]
  },
  {
   "cell_type": "code",
   "execution_count": 11,
   "id": "f800b2d8",
   "metadata": {},
   "outputs": [],
   "source": [
    "# Construct a short word made of separate strings\n",
    "a = 'potato'\n",
    "b = 'chips'"
   ]
  },
  {
   "cell_type": "code",
   "execution_count": 12,
   "id": "8bc6e8f0",
   "metadata": {},
   "outputs": [
    {
     "data": {
      "text/plain": [
       "'potatochips'"
      ]
     },
     "execution_count": 12,
     "metadata": {},
     "output_type": "execute_result"
    }
   ],
   "source": [
    "a + b"
   ]
  },
  {
   "cell_type": "code",
   "execution_count": 15,
   "id": "44f86f26",
   "metadata": {},
   "outputs": [],
   "source": [
    "# Construct two short sentences made of separate strings\n",
    "a = 'Hello, '\n",
    "b = 'Paras!'"
   ]
  },
  {
   "cell_type": "code",
   "execution_count": 16,
   "id": "836071b0",
   "metadata": {},
   "outputs": [
    {
     "data": {
      "text/plain": [
       "'Hello, Paras!'"
      ]
     },
     "execution_count": 16,
     "metadata": {},
     "output_type": "execute_result"
    }
   ],
   "source": [
    "a + b"
   ]
  },
  {
   "cell_type": "code",
   "execution_count": 19,
   "id": "b0cea297",
   "metadata": {},
   "outputs": [],
   "source": [
    "c = 'I like '\n",
    "d = 'animals.'"
   ]
  },
  {
   "cell_type": "code",
   "execution_count": 20,
   "id": "235f3bc9",
   "metadata": {},
   "outputs": [
    {
     "data": {
      "text/plain": [
       "'I like animals.'"
      ]
     },
     "execution_count": 20,
     "metadata": {},
     "output_type": "execute_result"
    }
   ],
   "source": [
    "c + d"
   ]
  },
  {
   "cell_type": "code",
   "execution_count": null,
   "id": "6297defd",
   "metadata": {},
   "outputs": [],
   "source": []
  }
 ],
 "metadata": {
  "kernelspec": {
   "display_name": "Python 3",
   "language": "python",
   "name": "python3"
  },
  "language_info": {
   "codemirror_mode": {
    "name": "ipython",
    "version": 3
   },
   "file_extension": ".py",
   "mimetype": "text/x-python",
   "name": "python",
   "nbconvert_exporter": "python",
   "pygments_lexer": "ipython3",
   "version": "3.8.8"
  }
 },
 "nbformat": 4,
 "nbformat_minor": 5
}
